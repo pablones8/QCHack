{
 "cells": [
  {
   "cell_type": "code",
   "execution_count": 1,
   "metadata": {},
   "outputs": [],
   "source": [
    "import turtle \n",
    "\n",
    "wn=turtle.Screen()\n",
    "wn.bgcolor(\"black\")\n",
    "wn.title(\"Laberinto\")\n",
    "wn.setup(700,700)\n",
    "\n",
    "class Pen(turtle.Turtle):\n",
    "    def __init__(self):\n",
    "        turtle.Turtle.__init__(self)\n",
    "        self.shape(\"square\")\n",
    "        self.color(\"white\")\n",
    "        self.penup()\n",
    "        self.speed(0)\n",
    "\n",
    "#lista que guarda los niveles\n",
    "niveles=[]\n",
    "#Defino el mapa\n",
    "nivel_1=[\n",
    "\"XXXXXXX  XXXXXXX\", \n",
    "\"XXXXXXX  XXXXXXX\", \n",
    "\"XXXXXXX      XXX\", \n",
    "\"XXXXXXXXXXX  XXX\", \n",
    "\"XXXXXXXXXXX  XXX\", \n",
    "\"XXXXXXXXXXX  XXX\",     \n",
    "\"XXXXXXXX     XXX\", \n",
    "\"XXXXXXXX  XXXXXX\", \n",
    "\"XXXXXXXX  XXXXXX\", \n",
    "\"XXXXXXXX  XXXXXX\", \n",
    "\"XXXXX     XXXXXX\", \n",
    "\"XXXXX  XXXXXXXXX\",\n",
    "\"XXX    XXXXXXXXX\", \n",
    "\"XXX  XXXXXXXXXXX\", \n",
    "\"     XXXXXXXXXXX\", \n",
    "\"XXXXXXXXXXXXXXXX\", \n",
    " ]\n",
    "\n",
    "#añado el nivel a la lista\n",
    "niveles.append(nivel_1)\n",
    "\n",
    "#pongo cuadrados en lugar de X\n",
    "def iniciar_lab(nivel):\n",
    "    for fila in range(len(nivel)):\n",
    "        for columna in range(len(nivel[fila])):\n",
    "            letra_x=nivel[fila][columna]\n",
    "            screen_x=-288+(columna*24)\n",
    "            screen_y=288-(fila*24)\n",
    "            \n",
    "            if letra_x==\"X\":\n",
    "                pen.goto(screen_x,screen_y)\n",
    "                pen.stamp()\n",
    "\n",
    "            \n",
    "pen=Pen()\n",
    "iniciar_lab(niveles[0])"
   ]
  },
  {
   "cell_type": "code",
   "execution_count": null,
   "metadata": {
    "collapsed": true
   },
   "outputs": [],
   "source": []
  }
 ],
 "metadata": {
  "kernelspec": {
   "display_name": "Python 3",
   "language": "python",
   "name": "python3"
  },
  "language_info": {
   "codemirror_mode": {
    "name": "ipython",
    "version": 3
   },
   "file_extension": ".py",
   "mimetype": "text/x-python",
   "name": "python",
   "nbconvert_exporter": "python",
   "pygments_lexer": "ipython3",
   "version": "3.6.1"
  }
 },
 "nbformat": 4,
 "nbformat_minor": 2
}
