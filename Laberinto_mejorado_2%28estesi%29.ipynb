{
 "cells": [
  {
   "cell_type": "code",
   "execution_count": 1,
   "metadata": {},
   "outputs": [],
   "source": [
    "import turtle \n",
    "\n",
    "wn=turtle.Screen()\n",
    "wn.bgcolor(\"black\")\n",
    "wn.title(\"Laberinto\")\n",
    "wn.setup(700,700)\n",
    "\n",
    "class Pen(turtle.Turtle):\n",
    "    def __init__(self):\n",
    "        turtle.Turtle.__init__(self)\n",
    "        self.shape(\"square\")\n",
    "        self.color(\"white\")\n",
    "        self.penup()\n",
    "        self.speed(0)\n",
    "\n",
    "#definimos nuestro jugador y es una subclase de Turtle\n",
    "class Player(turtle.Turtle):\n",
    "    def __init__(self):\n",
    "        turtle.Turtle.__init__(self)\n",
    "        self.shape(\"circle\")\n",
    "        self.color(\"red\")\n",
    "        self.penup()\n",
    "        self.speed(0)\n",
    "\n",
    "#lista que guarda los niveles\n",
    "niveles=[]\n",
    "#Defino el mapa\n",
    "nivel_1=[\n",
    "\"XPXXXXXX\", \n",
    "\"X    XXX\", \n",
    "\"XXXX XXX\", \n",
    "\"XXXX XXX\",     \n",
    "\"XXXX   X\", \n",
    "\"XXXXXX X\", \n",
    "\"       X\",\n",
    "\"XXXXXXXX\",\n",
    "]\n",
    "\n",
    "#añado el nivel a la lista\n",
    "niveles.append(nivel_1)\n",
    "\n",
    "#pongo cuadrados en lugar de X\n",
    "def iniciar_lab(nivel):\n",
    "    for fila in range(len(nivel)):\n",
    "        for columna in range(len(nivel[fila])):\n",
    "            letra_x=nivel[fila][columna]\n",
    "            screen_x=-288+(columna*24)\n",
    "            screen_y=288-(fila*24)\n",
    "            \n",
    "            if letra_x==\"X\":\n",
    "                pen.goto(screen_x,screen_y)\n",
    "                pen.stamp()\n",
    "                \n",
    "            if letra_x==\"P\": #añado mi jugador en la P\n",
    "                player.goto(screen_x,screen_y)\n",
    "\n",
    "#instancias        \n",
    "pen=Pen()\n",
    "player=Player()\n",
    "iniciar_lab(niveles[0])"
   ]
  },
  {
   "cell_type": "code",
   "execution_count": null,
   "metadata": {
    "collapsed": true
   },
   "outputs": [],
   "source": []
  }
 ],
 "metadata": {
  "kernelspec": {
   "display_name": "Python 3",
   "language": "python",
   "name": "python3"
  },
  "language_info": {
   "codemirror_mode": {
    "name": "ipython",
    "version": 3
   },
   "file_extension": ".py",
   "mimetype": "text/x-python",
   "name": "python",
   "nbconvert_exporter": "python",
   "pygments_lexer": "ipython3",
   "version": "3.8.5"
  }
 },
 "nbformat": 4,
 "nbformat_minor": 2
}
