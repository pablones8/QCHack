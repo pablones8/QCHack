{
 "cells": [
  {
   "cell_type": "code",
   "execution_count": 1,
   "metadata": {},
   "outputs": [
    {
     "name": "stderr",
     "output_type": "stream",
     "text": [
      "configrc.store_credentials:WARNING:2021-04-12 23:52:23,855: Credentials already present. Set overwrite=True to overwrite.\n"
     ]
    }
   ],
   "source": [
    "import numpy as np\n",
    "import matplotlib.pyplot as plt\n",
    "# Importing standard Qiskit libraries\n",
    "from qiskit import QuantumCircuit, transpile, Aer, IBMQ\n",
    "from qiskit import *\n",
    "#from qiskit.tools.jupyter import *\n",
    "from qiskit.visualization import *\n",
    "from qiskit.tools.visualization import circuit_drawer\n",
    "from qiskit.tools.visualization import plot_histogram\n",
    "import turtle \n",
    "import numpy as np\n",
    "\n",
    "\n",
    "# Loading your IBM Q account(s)\n",
    "\n",
    "IBMQ.save_account('f8f512e66825dbbf9a32adb61fea9ef136de434137db758ad036511c34ee98a15d0795ef5e68344a4aaf23fb6e66d97aa5416bb3cbcacb04cd7450fe5e2862b6')\n",
    "provider = IBMQ.load_account()"
   ]
  },
  {
   "cell_type": "code",
   "execution_count": 2,
   "metadata": {},
   "outputs": [],
   "source": [
    "class UserInteraction():\n",
    "    def __init__(self):\n",
    "        self.str_q0 = \"q0 -\"\n",
    "        self.str_q1 = \"q1 -\"\n",
    "        self.wire = \"-----------\"\n",
    "        \n",
    "        #Initial position in grid\n",
    "        self.i, self.j = [0,1]\n",
    "        #Creates grid\n",
    "        '''\n",
    "        self.grid=np.matrix([[0,0,3,2,0],\n",
    "                            [1,0,1,0,1],\n",
    "                            [1,0,0,0,1],\n",
    "                            [1,1,1,1,1]])\n",
    "        \n",
    "        self.grid=np.matrix([[1,0,1,1,1,1,1,1],\n",
    "                            [1,0,0,0,0,1,1,1],\n",
    "                            [1,1,1,1,0,1,1,1],\n",
    "                            [1,1,1,1,0,1,1,1],\n",
    "                            [1,1,1,1,0,0,0,1],\n",
    "                            [1,1,1,1,1,1,0,1],\n",
    "                            [0,2,0,0,0,0,0,1],\n",
    "                            [1,1,1,1,1,1,1,1]]\n",
    ")\n",
    "     '''   \n",
    "        self.grid=np.matrix([[1,2,1,1,1,1,1,1],\n",
    "                [1,0,0,0,0,1,1,1],\n",
    "                [1,1,1,1,0,1,1,1],\n",
    "                [1,1,1,1,0,1,1,1],\n",
    "                [1,1,1,1,0,0,0,1],\n",
    "                [0,0,0,1,1,1,0,1],\n",
    "                [1,1,0,0,0,0,0,1],\n",
    "                [1,1,1,1,1,1,1,1]])\n",
    "        \n",
    "        self.tun=0\n",
    "    \n",
    "    def apply_gates(self):\n",
    "        print('\\n')\n",
    "        print('--------NEW MOVEMENT--------')\n",
    "        print(\"Insert gates you want to apply (Ex: H-X-H-R)\")\n",
    "        \n",
    "        if level==0:\n",
    "            q0 = input(\"q0--\")\n",
    "            q1 = input(\"q1--\")\n",
    "        elif level==1:\n",
    "            q0 = input(\"q0--H-\")\n",
    "            q1 = input(\"q1--H-\")\n",
    "        elif level==2:\n",
    "            q0 = input(\"q0--R-\")\n",
    "            q1 = input(\"q1-----\")\n",
    "        \n",
    "        self.gates_q0 = []\n",
    "        self.gates_q1 = []\n",
    "        for gate in q0:\n",
    "            if gate != \"-\":\n",
    "                self.gates_q0.append(gate)\n",
    "        \n",
    "        for gate in q1:\n",
    "            if gate != \"-\":\n",
    "                self.gates_q1.append(gate)\n",
    "        \n",
    "        self.generate_circuit(self.gates_q0,self.gates_q1)\n",
    "        \n",
    "        \n",
    "    def generate_circuit(self,list0, list1):\n",
    "        circ = QuantumCircuit(2)\n",
    "        \n",
    "        if level==0:\n",
    "            circ.reset(0)\n",
    "            circ.reset(1)\n",
    "        elif level==1:\n",
    "            circ.h(0)\n",
    "            circ.h(1)\n",
    "        elif level==2:\n",
    "            circ.rx(np.pi/2,0)\n",
    "            circ.reset(1)\n",
    "\n",
    "        \n",
    "        #gates q0\n",
    "        for gate in list0:\n",
    "            if gate == 'X':\n",
    "                circ.x(0)\n",
    "            elif gate == 'H':\n",
    "                circ.h(0)\n",
    "            elif gate == 'R':\n",
    "                circ.rx(np.pi/2,0)\n",
    "        \n",
    "        #gates q1\n",
    "        for gate in list1:\n",
    "            if gate == 'X':\n",
    "                circ.x(1)\n",
    "            elif gate == 'H':\n",
    "                circ.h(1)\n",
    "            elif gate == 'R':\n",
    "                circ.rx(np.pi/2,1)\n",
    "        \n",
    "        #Creating the measurement\n",
    "        meas = QuantumCircuit(2,2)\n",
    "        meas.barrier(range(2))\n",
    "        meas.measure(range(2), range(2))\n",
    "        \n",
    "        \n",
    "        self.qc = circ+meas\n",
    "        print(self.qc)\n",
    "    \n",
    "    def movement(self):\n",
    "        \n",
    "        \n",
    "        #Measurement\n",
    "        simulator = Aer.get_backend('qasm_simulator')\n",
    "        compiled_circuit = transpile(self.qc, simulator)\n",
    "        \n",
    "        #initialize dictonary\n",
    "        counts= {\n",
    "          \"00\": 0,\n",
    "          \"01\": 0,\n",
    "          \"10\": 0,\n",
    "          \"11\": 0\n",
    "        }\n",
    "     \n",
    "        counts_total= {\n",
    "          \"00\": 0,\n",
    "          \"01\": 0,\n",
    "          \"10\": 0,\n",
    "          \"11\": 0\n",
    "        }\n",
    "        # Execute the circuit on the qasm simulator\n",
    "        job_total =execute(self.qc, simulator, shots=1000)\n",
    "        job = execute(self.qc, simulator, shots=1)\n",
    "\n",
    "        # Grab results from the job\n",
    "        result = job.result()\n",
    "        result_total = job_total.result()\n",
    "        \n",
    "        # Returns counts\n",
    "        self.counts = result.get_counts(self.qc)\n",
    "        self.counts_total = result_total.get_counts(self.qc)\n",
    "        \n",
    "        #Movement\n",
    "        max_counts=900\n",
    "\n",
    "        #Makes sure to get every state in the dictionary (even if it has 0 counts)\n",
    "        self.counts_total['00']=self.counts_total.get('00', 0)/1000\n",
    "        self.counts_total['01']=self.counts_total.get('01', 0)/1000\n",
    "        self.counts_total['10']=self.counts_total.get('10', 0)/1000\n",
    "        self.counts_total['11']=self.counts_total.get('11', 0)/1000\n",
    "\n",
    "        #Makes sure to get every state in the dictionary (even if it has 0 counts)\n",
    "        self.counts['00']=self.counts.get('00', 0)\n",
    "        self.counts['01']=self.counts.get('01', 0)\n",
    "        self.counts['10']=self.counts.get('10', 0)\n",
    "        self.counts['11']=self.counts.get('11', 0)\n",
    "\n",
    "        # 00: DOWN\n",
    "        if self.counts[\"00\"]==1:\n",
    "            if self.grid[self.i+1,self.j]==0:\n",
    "                self.grid[self.i,self.j]=0\n",
    "                self.grid[(self.i+1),self.j]=2\n",
    "                self.i+=1\n",
    "            elif self.grid[self.i+1,self.j]==1:\n",
    "                num_walls = 1\n",
    "                \n",
    "                #We check how many walls there are\n",
    "                for n in range(self.i+2,np.shape(self.grid)[0]):\n",
    "                    if self.grid[n,self.j]==1:\n",
    "                        num_walls += 1\n",
    "                    elif self.grid[n,self.j]==0:\n",
    "                        #Tunneling is possible\n",
    "                        self.tun = 1\n",
    "                        break\n",
    "                    else:\n",
    "                        #Tunneling not possible\n",
    "                        self.tun = 0\n",
    "                        break\n",
    "                if self.tun == 1:\n",
    "                    #If the num of walls is higher then the probability\n",
    "                    #of tunneling reduces\n",
    "                    prob = num_walls * 20\n",
    "                    x = np.random.randint(0,prob)\n",
    "                    y = np.random.randint(0,prob)\n",
    "                    if x == y:\n",
    "                        self.grid[self.i,self.j]=0\n",
    "                        if self.i+num_walls+1 > np.shape(self.grid)[0]:\n",
    "                            self.grid[self.i,self.j]=2\n",
    "                        else:\n",
    "                            self.grid[self.i+num_walls+1,self.j]=2\n",
    "                            self.i+=num_walls+1\n",
    "                    else:\n",
    "                        print('Tunneling failed... Try again')\n",
    "                else:\n",
    "                    print('Impossible movement. (Tunneling not possible!)')\n",
    "            else:\n",
    "                print('Impossible movement')\n",
    "                \n",
    "\n",
    "        #01: UP\n",
    "        elif self.counts[\"01\"]==1:\n",
    "            if self.grid[self.i-1,self.j]==0:\n",
    "                self.grid[self.i,self.j]=0\n",
    "                self.grid[self.i-1,self.j]=2\n",
    "                self.i += -1\n",
    "            elif self.grid[self.i-1,self.j]==1:\n",
    "                num_walls = 1\n",
    "                \n",
    "                #We check how many walls there are\n",
    "                for n in range(2,self.i+1):\n",
    "                    k = self.i-n\n",
    "                    if self.grid[n,self.j]==1 and k > 0:\n",
    "                        num_walls += 1\n",
    "                    elif self.grid[n,self.j]==0:\n",
    "                        #Tunneling is possible\n",
    "                        self.tun = 1\n",
    "                        break\n",
    "                    else:\n",
    "                        #Tunneling not possible\n",
    "                        self.tun = 0\n",
    "                        break\n",
    "                if self.tun == 1:\n",
    "                    #If the num of walls is higher then the probability\n",
    "                    #of tunneling reduces\n",
    "                    prob = num_walls * 20\n",
    "                    x = np.random.randint(0,prob)\n",
    "                    y = np.random.randint(0,prob)\n",
    "                    if x == y:\n",
    "                        self.grid[self.i,self.j]=0\n",
    "                        if self.i-num_walls-1 < 0:\n",
    "                            self.grid[self.i,self.j]=2\n",
    "                        else:\n",
    "                            self.grid[self.i-num_walls-1,self.j]=2\n",
    "                            self.i+=-(num_walls+1)\n",
    "                    else:\n",
    "                        print('Tunneling failed... Try again')\n",
    "                else:\n",
    "                    print('Impossible movement. (Tunneling not possible!)')\n",
    "            else:\n",
    "                print('Impossible movement')\n",
    "                \n",
    "                \n",
    "        #10: RIGHT        \n",
    "        elif self.counts[\"10\"]==1:\n",
    "            if self.grid[self.i,self.j+1]==0:\n",
    "                self.grid[self.i,self.j]=0\n",
    "                self.grid[self.i,self.j+1]=2\n",
    "                self.j += 1\n",
    "            elif self.grid[self.i,self.j+1]==1:\n",
    "                num_walls = 1\n",
    "                \n",
    "                #We check how many walls there are\n",
    "                for n in range(self.j+2,np.shape(self.grid)[1]):\n",
    "                    if self.grid[self.i,n]==1:\n",
    "                        num_walls += 1\n",
    "                    elif self.grid[self.i,n]==0:\n",
    "                        #Tunneling is possible\n",
    "                        self.tun = 1\n",
    "                        break\n",
    "                    else:\n",
    "                        #Tunneling not possible\n",
    "                        self.tun = 0\n",
    "                        break\n",
    "                if self.tun == 1:\n",
    "                    #If the num of walls is higher then the probability\n",
    "                    #of tunneling reduces\n",
    "                    prob = num_walls * 20\n",
    "                    x = np.random.randint(0,prob)\n",
    "                    y = np.random.randint(0,prob)\n",
    "                    if x == y:\n",
    "                        self.grid[self.i,self.j]=0\n",
    "                        if self.j+num_walls+1 > np.shape(self.grid)[0]:\n",
    "                            self.grid[self.i,self.j]=2\n",
    "                        else:\n",
    "                            self.grid[self.i,self.j+num_walls+1]=2\n",
    "                            self.j+=num_walls+1\n",
    "                    else:\n",
    "                        print('Tunneling failed... Try again')\n",
    "                else:\n",
    "                    print('Impossible movement. (Tunneling not possible!)')\n",
    "            else:\n",
    "                print('Impossible movement')\n",
    "\n",
    "        #11: LEFT\n",
    "        elif self.counts[\"11\"]==1:\n",
    "            if self.grid[self.i,self.j-1]==0:\n",
    "                self.grid[self.i,self.j]=0\n",
    "                self.grid[self.i,self.j-1]=2\n",
    "                self.j += -1\n",
    "            elif self.grid[self.i,self.j-1]==1:\n",
    "                num_walls = 1\n",
    "                \n",
    "                #We check how many walls there are\n",
    "                for n in range(2,self.j+1):\n",
    "                    k = self.j-n\n",
    "                    if self.grid[self.i,n]==1 and k > 0:\n",
    "                        num_walls += 1\n",
    "                    elif self.grid[self.i,n]==0:\n",
    "                        #Tunneling is possible\n",
    "                        self.tun = 1\n",
    "                        break\n",
    "                    else:\n",
    "                        #Tunneling not possible\n",
    "                        self.tun = 0\n",
    "                        break\n",
    "                if self.tun == 1:\n",
    "                    #If the num of walls is higher then the probability\n",
    "                    #of tunneling reduces\n",
    "                    prob = num_walls * 20\n",
    "                    x = np.random.randint(0,prob)\n",
    "                    y = np.random.randint(0,prob)\n",
    "                    if x == y:\n",
    "                        self.grid[self.i,self.j]=0\n",
    "                        if self.j-num_walls-1 < 0:\n",
    "                            self.grid[self.i,self.j]=2\n",
    "                        else:\n",
    "                            self.grid[self.i,self.j-num_walls-1]=2\n",
    "                            self.i+=-(num_walls+1)\n",
    "                    else:\n",
    "                        print('Tunneling failed... Try again')\n",
    "                else:\n",
    "                    print('Impossible movement. (Tunneling not possible!)')\n",
    "            else:\n",
    "                print('Impossible movement')\n",
    "        \n",
    "        keys = self.counts_total. keys()\n",
    "        values = self.counts_total. values()\n",
    "        histo=plt. bar(keys, values)\n",
    "        plt.xlabel('States', fontsize = 10)\n",
    "        plt.ylabel('Probabilities', fontsize = 10)\n",
    "       \n",
    "        #histo=plt.bar(list(self.counts_total()), self.counts_total.values(), color='g')\n",
    "        \n",
    "        #print(self.grid)\n",
    "        #print(plt. bar(keys, values))\n",
    "        return self.grid, plt. show(histo)\n",
    "\n"
   ]
  },
  {
   "cell_type": "code",
   "execution_count": 3,
   "metadata": {},
   "outputs": [],
   "source": [
    "wn=turtle.Screen()\n",
    "wn.bgcolor(\"black\")\n",
    "wn.title(\"Laberinto\")\n",
    "wn.setup(500,500)\n",
    "\n",
    "\n",
    "#Greed\n",
    "class Pen(turtle.Turtle):\n",
    "    def __init__(self):\n",
    "        turtle.Turtle.__init__(self)\n",
    "        self.shape(\"square\")\n",
    "        self.color(\"white\")\n",
    "        self.penup()\n",
    "        self.speed(0)\n",
    "\n",
    "#We define \"the player\"\n",
    "class Player(turtle.Turtle):\n",
    "    def __init__(self):\n",
    "        turtle.Turtle.__init__(self)\n",
    "        self.shape(\"circle\")\n",
    "        self.color(\"red\")\n",
    "        self.penup()\n",
    "        self.speed(0)\n",
    "\n",
    "#This class represents the movement\n",
    "class Movimiento():\n",
    "    def __init__(self,posit,coord):\n",
    "        self.pos = posit\n",
    "        self.coord = coord\n",
    "        self.screen_x = -100+24\n",
    "        self.screen_y = 100\n",
    "        self.x = 0\n",
    "        self.y = 0\n",
    "        \n",
    "    \n",
    "    #pongo cuadrados en lugar de X\n",
    "    def iniciar_lab(self,nivel,matrix):\n",
    "        row,col = np.shape(matrix)\n",
    "        for fila in range(row):\n",
    "            for columna in range(col):\n",
    "                letra_x=nivel[fila,columna]\n",
    "                self.screen_x=-100+(columna*24)\n",
    "                self.screen_y=100-(fila*24)\n",
    "                \n",
    "                if letra_x==1:\n",
    "                    pen.goto(self.screen_x,self.screen_y)\n",
    "                    pen.stamp()\n",
    "\n",
    "                if letra_x==2: #añado mi jugador en la P\n",
    "                    player.goto(self.screen_x,self.screen_y)\n",
    "                \n",
    "\n",
    "    #This function \n",
    "    def moviment(self, matrix): \n",
    "        for i in range(np.shape(matrix)[0]):\n",
    "            for j in range(np.shape(matrix)[1]):\n",
    "                p = matrix[i,j]\n",
    "                \n",
    "                if p == 2:\n",
    "                    self.screen_x = -100+(j-self.x)*24\n",
    "                    self.screen_y = 100-(i-self.y)*24\n",
    "                    player.goto(self.screen_x,self.screen_y)\n",
    "                \n",
    "                \n",
    "                    self.x = j\n",
    "                    self.y = i\n",
    "                \n",
    " \n",
    "\n"
   ]
  },
  {
   "cell_type": "code",
   "execution_count": null,
   "metadata": {},
   "outputs": [
    {
     "name": "stdout",
     "output_type": "stream",
     "text": [
      "Initial position:\n",
      "[[1 2 1 1 1 1 1 1]\n",
      " [1 0 0 0 0 1 1 1]\n",
      " [1 1 1 1 0 1 1 1]\n",
      " [1 1 1 1 0 1 1 1]\n",
      " [1 1 1 1 0 0 0 1]\n",
      " [0 0 0 1 1 1 0 1]\n",
      " [1 1 0 0 0 0 0 1]\n",
      " [1 1 1 1 1 1 1 1]]\n",
      "\n",
      "\n",
      "--------NEW MOVEMENT--------\n",
      "Insert gates you want to apply (Ex: H-X-H-R)\n",
      "q0--\n",
      "q1--\n",
      "           ░ ┌─┐   \n",
      "q_0: ─|0>──░─┤M├───\n",
      "           ░ └╥┘┌─┐\n",
      "q_1: ─|0>──░──╫─┤M├\n",
      "           ░  ║ └╥┘\n",
      "c_0: ═════════╩══╬═\n",
      "                 ║ \n",
      "c_1: ════════════╩═\n",
      "                   \n"
     ]
    },
    {
     "data": {
      "image/png": "[encoded data removed]",
      "text/plain": [
       "<Figure size 432x288 with 1 Axes>"
      ]
     },
     "metadata": {
      "needs_background": "light"
     },
     "output_type": "display_data"
    },
    {
     "name": "stdout",
     "output_type": "stream",
     "text": [
      "This is a simple representation of your position:\n",
      "\n",
      "[[1 0 1 1 1 1 1 1]\n",
      " [1 2 0 0 0 1 1 1]\n",
      " [1 1 1 1 0 1 1 1]\n",
      " [1 1 1 1 0 1 1 1]\n",
      " [1 1 1 1 0 0 0 1]\n",
      " [0 0 0 1 1 1 0 1]\n",
      " [1 1 0 0 0 0 0 1]\n",
      " [1 1 1 1 1 1 1 1]]\n",
      "\n",
      "\n",
      "--------NEW MOVEMENT--------\n",
      "Insert gates you want to apply (Ex: H-X-H-R)\n",
      "q0--\n",
      "q1--\n",
      "           ░ ┌─┐   \n",
      "q_0: ─|0>──░─┤M├───\n",
      "           ░ └╥┘┌─┐\n",
      "q_1: ─|0>──░──╫─┤M├\n",
      "           ░  ║ └╥┘\n",
      "c_0: ═════════╩══╬═\n",
      "                 ║ \n",
      "c_1: ════════════╩═\n",
      "                   \n",
      "Tunneling failed... Try again\n"
     ]
    },
    {
     "data": {
      "image/png": "[encoded data removed]",
      "text/plain": [
       "<Figure size 432x288 with 1 Axes>"
      ]
     },
     "metadata": {
      "needs_background": "light"
     },
     "output_type": "display_data"
    },
    {
     "name": "stdout",
     "output_type": "stream",
     "text": [
      "This is a simple representation of your position:\n",
      "\n",
      "[[1 0 1 1 1 1 1 1]\n",
      " [1 2 0 0 0 1 1 1]\n",
      " [1 1 1 1 0 1 1 1]\n",
      " [1 1 1 1 0 1 1 1]\n",
      " [1 1 1 1 0 0 0 1]\n",
      " [0 0 0 1 1 1 0 1]\n",
      " [1 1 0 0 0 0 0 1]\n",
      " [1 1 1 1 1 1 1 1]]\n",
      "\n",
      "\n",
      "--------NEW MOVEMENT--------\n",
      "Insert gates you want to apply (Ex: H-X-H-R)\n",
      "q0--\n",
      "q1--\n",
      "           ░ ┌─┐   \n",
      "q_0: ─|0>──░─┤M├───\n",
      "           ░ └╥┘┌─┐\n",
      "q_1: ─|0>──░──╫─┤M├\n",
      "           ░  ║ └╥┘\n",
      "c_0: ═════════╩══╬═\n",
      "                 ║ \n",
      "c_1: ════════════╩═\n",
      "                   \n",
      "Tunneling failed... Try again\n"
     ]
    },
    {
     "data": {
      "image/png": "[encoded data removed]",
      "text/plain": [
       "<Figure size 432x288 with 1 Axes>"
      ]
     },
     "metadata": {
      "needs_background": "light"
     },
     "output_type": "display_data"
    },
    {
     "name": "stdout",
     "output_type": "stream",
     "text": [
      "This is a simple representation of your position:\n",
      "\n",
      "[[1 0 1 1 1 1 1 1]\n",
      " [1 2 0 0 0 1 1 1]\n",
      " [1 1 1 1 0 1 1 1]\n",
      " [1 1 1 1 0 1 1 1]\n",
      " [1 1 1 1 0 0 0 1]\n",
      " [0 0 0 1 1 1 0 1]\n",
      " [1 1 0 0 0 0 0 1]\n",
      " [1 1 1 1 1 1 1 1]]\n",
      "\n",
      "\n",
      "--------NEW MOVEMENT--------\n",
      "Insert gates you want to apply (Ex: H-X-H-R)\n",
      "q0--\n",
      "q1--\n",
      "           ░ ┌─┐   \n",
      "q_0: ─|0>──░─┤M├───\n",
      "           ░ └╥┘┌─┐\n",
      "q_1: ─|0>──░──╫─┤M├\n",
      "           ░  ║ └╥┘\n",
      "c_0: ═════════╩══╬═\n",
      "                 ║ \n",
      "c_1: ════════════╩═\n",
      "                   \n",
      "Tunneling failed... Try again\n"
     ]
    },
    {
     "data": {
      "image/png": "[encoded data removed]",
      "text/plain": [
       "<Figure size 432x288 with 1 Axes>"
      ]
     },
     "metadata": {
      "needs_background": "light"
     },
     "output_type": "display_data"
    },
    {
     "name": "stdout",
     "output_type": "stream",
     "text": [
      "This is a simple representation of your position:\n",
      "\n",
      "[[1 0 1 1 1 1 1 1]\n",
      " [1 2 0 0 0 1 1 1]\n",
      " [1 1 1 1 0 1 1 1]\n",
      " [1 1 1 1 0 1 1 1]\n",
      " [1 1 1 1 0 0 0 1]\n",
      " [0 0 0 1 1 1 0 1]\n",
      " [1 1 0 0 0 0 0 1]\n",
      " [1 1 1 1 1 1 1 1]]\n",
      "\n",
      "\n",
      "--------NEW MOVEMENT--------\n",
      "Insert gates you want to apply (Ex: H-X-H-R)\n",
      "q0--\n",
      "q1--\n",
      "           ░ ┌─┐   \n",
      "q_0: ─|0>──░─┤M├───\n",
      "           ░ └╥┘┌─┐\n",
      "q_1: ─|0>──░──╫─┤M├\n",
      "           ░  ║ └╥┘\n",
      "c_0: ═════════╩══╬═\n",
      "                 ║ \n",
      "c_1: ════════════╩═\n",
      "                   \n",
      "Tunneling failed... Try again\n"
     ]
    },
    {
     "data": {
      "image/png": "[encoded data removed]",
      "text/plain": [
       "<Figure size 432x288 with 1 Axes>"
      ]
     },
     "metadata": {
      "needs_background": "light"
     },
     "output_type": "display_data"
    },
    {
     "name": "stdout",
     "output_type": "stream",
     "text": [
      "This is a simple representation of your position:\n",
      "\n",
      "[[1 0 1 1 1 1 1 1]\n",
      " [1 2 0 0 0 1 1 1]\n",
      " [1 1 1 1 0 1 1 1]\n",
      " [1 1 1 1 0 1 1 1]\n",
      " [1 1 1 1 0 0 0 1]\n",
      " [0 0 0 1 1 1 0 1]\n",
      " [1 1 0 0 0 0 0 1]\n",
      " [1 1 1 1 1 1 1 1]]\n",
      "\n",
      "\n",
      "--------NEW MOVEMENT--------\n",
      "Insert gates you want to apply (Ex: H-X-H-R)\n",
      "q0--\n",
      "q1--\n",
      "           ░ ┌─┐   \n",
      "q_0: ─|0>──░─┤M├───\n",
      "           ░ └╥┘┌─┐\n",
      "q_1: ─|0>──░──╫─┤M├\n",
      "           ░  ║ └╥┘\n",
      "c_0: ═════════╩══╬═\n",
      "                 ║ \n",
      "c_1: ════════════╩═\n",
      "                   \n",
      "Tunneling failed... Try again\n"
     ]
    },
    {
     "data": {
      "image/png": "[encoded data removed]",
      "text/plain": [
       "<Figure size 432x288 with 1 Axes>"
      ]
     },
     "metadata": {
      "needs_background": "light"
     },
     "output_type": "display_data"
    },
    {
     "name": "stdout",
     "output_type": "stream",
     "text": [
      "This is a simple representation of your position:\n",
      "\n",
      "[[1 0 1 1 1 1 1 1]\n",
      " [1 2 0 0 0 1 1 1]\n",
      " [1 1 1 1 0 1 1 1]\n",
      " [1 1 1 1 0 1 1 1]\n",
      " [1 1 1 1 0 0 0 1]\n",
      " [0 0 0 1 1 1 0 1]\n",
      " [1 1 0 0 0 0 0 1]\n",
      " [1 1 1 1 1 1 1 1]]\n",
      "\n",
      "\n",
      "--------NEW MOVEMENT--------\n",
      "Insert gates you want to apply (Ex: H-X-H-R)\n",
      "q0--\n",
      "q1--\n",
      "           ░ ┌─┐   \n",
      "q_0: ─|0>──░─┤M├───\n",
      "           ░ └╥┘┌─┐\n",
      "q_1: ─|0>──░──╫─┤M├\n",
      "           ░  ║ └╥┘\n",
      "c_0: ═════════╩══╬═\n",
      "                 ║ \n",
      "c_1: ════════════╩═\n",
      "                   \n",
      "Tunneling failed... Try again\n"
     ]
    },
    {
     "data": {
      "image/png": "[encoded data removed]",
      "text/plain": [
       "<Figure size 432x288 with 1 Axes>"
      ]
     },
     "metadata": {
      "needs_background": "light"
     },
     "output_type": "display_data"
    },
    {
     "name": "stdout",
     "output_type": "stream",
     "text": [
      "This is a simple representation of your position:\n",
      "\n",
      "[[1 0 1 1 1 1 1 1]\n",
      " [1 2 0 0 0 1 1 1]\n",
      " [1 1 1 1 0 1 1 1]\n",
      " [1 1 1 1 0 1 1 1]\n",
      " [1 1 1 1 0 0 0 1]\n",
      " [0 0 0 1 1 1 0 1]\n",
      " [1 1 0 0 0 0 0 1]\n",
      " [1 1 1 1 1 1 1 1]]\n",
      "\n",
      "\n",
      "--------NEW MOVEMENT--------\n",
      "Insert gates you want to apply (Ex: H-X-H-R)\n",
      "q0--\n",
      "q1--\n",
      "           ░ ┌─┐   \n",
      "q_0: ─|0>──░─┤M├───\n",
      "           ░ └╥┘┌─┐\n",
      "q_1: ─|0>──░──╫─┤M├\n",
      "           ░  ║ └╥┘\n",
      "c_0: ═════════╩══╬═\n",
      "                 ║ \n",
      "c_1: ════════════╩═\n",
      "                   \n",
      "Tunneling failed... Try again\n"
     ]
    },
    {
     "data": {
      "image/png": "[encoded data removed]",
      "text/plain": [
       "<Figure size 432x288 with 1 Axes>"
      ]
     },
     "metadata": {
      "needs_background": "light"
     },
     "output_type": "display_data"
    },
    {
     "name": "stdout",
     "output_type": "stream",
     "text": [
      "This is a simple representation of your position:\n",
      "\n",
      "[[1 0 1 1 1 1 1 1]\n",
      " [1 2 0 0 0 1 1 1]\n",
      " [1 1 1 1 0 1 1 1]\n",
      " [1 1 1 1 0 1 1 1]\n",
      " [1 1 1 1 0 0 0 1]\n",
      " [0 0 0 1 1 1 0 1]\n",
      " [1 1 0 0 0 0 0 1]\n",
      " [1 1 1 1 1 1 1 1]]\n",
      "\n",
      "\n",
      "--------NEW MOVEMENT--------\n",
      "Insert gates you want to apply (Ex: H-X-H-R)\n",
      "q0--\n",
      "q1--\n",
      "           ░ ┌─┐   \n",
      "q_0: ─|0>──░─┤M├───\n",
      "           ░ └╥┘┌─┐\n",
      "q_1: ─|0>──░──╫─┤M├\n",
      "           ░  ║ └╥┘\n",
      "c_0: ═════════╩══╬═\n",
      "                 ║ \n",
      "c_1: ════════════╩═\n",
      "                   \n",
      "Tunneling failed... Try again\n"
     ]
    },
    {
     "data": {
      "image/png": "[encoded data removed]",
      "text/plain": [
       "<Figure size 432x288 with 1 Axes>"
      ]
     },
     "metadata": {
      "needs_background": "light"
     },
     "output_type": "display_data"
    },
    {
     "name": "stdout",
     "output_type": "stream",
     "text": [
      "This is a simple representation of your position:\n",
      "\n",
      "[[1 0 1 1 1 1 1 1]\n",
      " [1 2 0 0 0 1 1 1]\n",
      " [1 1 1 1 0 1 1 1]\n",
      " [1 1 1 1 0 1 1 1]\n",
      " [1 1 1 1 0 0 0 1]\n",
      " [0 0 0 1 1 1 0 1]\n",
      " [1 1 0 0 0 0 0 1]\n",
      " [1 1 1 1 1 1 1 1]]\n",
      "\n",
      "\n",
      "--------NEW MOVEMENT--------\n",
      "Insert gates you want to apply (Ex: H-X-H-R)\n",
      "q0--\n",
      "q1--\n",
      "           ░ ┌─┐   \n",
      "q_0: ─|0>──░─┤M├───\n",
      "           ░ └╥┘┌─┐\n",
      "q_1: ─|0>──░──╫─┤M├\n",
      "           ░  ║ └╥┘\n",
      "c_0: ═════════╩══╬═\n",
      "                 ║ \n",
      "c_1: ════════════╩═\n",
      "                   \n",
      "Tunneling failed... Try again\n"
     ]
    },
    {
     "data": {
      "image/png": "[encoded data removed]",
      "text/plain": [
       "<Figure size 432x288 with 1 Axes>"
      ]
     },
     "metadata": {
      "needs_background": "light"
     },
     "output_type": "display_data"
    },
    {
     "name": "stdout",
     "output_type": "stream",
     "text": [
      "This is a simple representation of your position:\n",
      "\n",
      "[[1 0 1 1 1 1 1 1]\n",
      " [1 2 0 0 0 1 1 1]\n",
      " [1 1 1 1 0 1 1 1]\n",
      " [1 1 1 1 0 1 1 1]\n",
      " [1 1 1 1 0 0 0 1]\n",
      " [0 0 0 1 1 1 0 1]\n",
      " [1 1 0 0 0 0 0 1]\n",
      " [1 1 1 1 1 1 1 1]]\n",
      "\n",
      "\n",
      "--------NEW MOVEMENT--------\n",
      "Insert gates you want to apply (Ex: H-X-H-R)\n",
      "q0--\n",
      "q1--\n",
      "           ░ ┌─┐   \n",
      "q_0: ─|0>──░─┤M├───\n",
      "           ░ └╥┘┌─┐\n",
      "q_1: ─|0>──░──╫─┤M├\n",
      "           ░  ║ └╥┘\n",
      "c_0: ═════════╩══╬═\n",
      "                 ║ \n",
      "c_1: ════════════╩═\n",
      "                   \n",
      "Tunneling failed... Try again\n"
     ]
    },
    {
     "data": {
      "image/png": "[encoded data removed]",
      "text/plain": [
       "<Figure size 432x288 with 1 Axes>"
      ]
     },
     "metadata": {
      "needs_background": "light"
     },
     "output_type": "display_data"
    },
    {
     "name": "stdout",
     "output_type": "stream",
     "text": [
      "This is a simple representation of your position:\n",
      "\n",
      "[[1 0 1 1 1 1 1 1]\n",
      " [1 2 0 0 0 1 1 1]\n",
      " [1 1 1 1 0 1 1 1]\n",
      " [1 1 1 1 0 1 1 1]\n",
      " [1 1 1 1 0 0 0 1]\n",
      " [0 0 0 1 1 1 0 1]\n",
      " [1 1 0 0 0 0 0 1]\n",
      " [1 1 1 1 1 1 1 1]]\n",
      "\n",
      "\n",
      "--------NEW MOVEMENT--------\n",
      "Insert gates you want to apply (Ex: H-X-H-R)\n",
      "q0--\n",
      "q1--\n",
      "           ░ ┌─┐   \n",
      "q_0: ─|0>──░─┤M├───\n",
      "           ░ └╥┘┌─┐\n",
      "q_1: ─|0>──░──╫─┤M├\n",
      "           ░  ║ └╥┘\n",
      "c_0: ═════════╩══╬═\n",
      "                 ║ \n",
      "c_1: ════════════╩═\n",
      "                   \n",
      "Tunneling failed... Try again\n"
     ]
    },
    {
     "data": {
      "image/png": "[encoded data removed]",
      "text/plain": [
       "<Figure size 432x288 with 1 Axes>"
      ]
     },
     "metadata": {
      "needs_background": "light"
     },
     "output_type": "display_data"
    },
    {
     "name": "stdout",
     "output_type": "stream",
     "text": [
      "This is a simple representation of your position:\n",
      "\n",
      "[[1 0 1 1 1 1 1 1]\n",
      " [1 2 0 0 0 1 1 1]\n",
      " [1 1 1 1 0 1 1 1]\n",
      " [1 1 1 1 0 1 1 1]\n",
      " [1 1 1 1 0 0 0 1]\n",
      " [0 0 0 1 1 1 0 1]\n",
      " [1 1 0 0 0 0 0 1]\n",
      " [1 1 1 1 1 1 1 1]]\n",
      "\n",
      "\n",
      "--------NEW MOVEMENT--------\n",
      "Insert gates you want to apply (Ex: H-X-H-R)\n",
      "q0--\n",
      "q1--\n",
      "           ░ ┌─┐   \n",
      "q_0: ─|0>──░─┤M├───\n",
      "           ░ └╥┘┌─┐\n",
      "q_1: ─|0>──░──╫─┤M├\n",
      "           ░  ║ └╥┘\n",
      "c_0: ═════════╩══╬═\n",
      "                 ║ \n",
      "c_1: ════════════╩═\n",
      "                   \n",
      "Tunneling failed... Try again\n"
     ]
    },
    {
     "data": {
      "image/png": "[encoded data removed]",
      "text/plain": [
       "<Figure size 432x288 with 1 Axes>"
      ]
     },
     "metadata": {
      "needs_background": "light"
     },
     "output_type": "display_data"
    },
    {
     "name": "stdout",
     "output_type": "stream",
     "text": [
      "This is a simple representation of your position:\n",
      "\n",
      "[[1 0 1 1 1 1 1 1]\n",
      " [1 2 0 0 0 1 1 1]\n",
      " [1 1 1 1 0 1 1 1]\n",
      " [1 1 1 1 0 1 1 1]\n",
      " [1 1 1 1 0 0 0 1]\n",
      " [0 0 0 1 1 1 0 1]\n",
      " [1 1 0 0 0 0 0 1]\n",
      " [1 1 1 1 1 1 1 1]]\n",
      "\n",
      "\n",
      "--------NEW MOVEMENT--------\n",
      "Insert gates you want to apply (Ex: H-X-H-R)\n",
      "q0--\n",
      "q1--\n",
      "           ░ ┌─┐   \n",
      "q_0: ─|0>──░─┤M├───\n",
      "           ░ └╥┘┌─┐\n",
      "q_1: ─|0>──░──╫─┤M├\n",
      "           ░  ║ └╥┘\n",
      "c_0: ═════════╩══╬═\n",
      "                 ║ \n",
      "c_1: ════════════╩═\n",
      "                   \n",
      "Tunneling failed... Try again\n"
     ]
    },
    {
     "data": {
      "image/png": "[encoded data removed]",
      "text/plain": [
       "<Figure size 432x288 with 1 Axes>"
      ]
     },
     "metadata": {
      "needs_background": "light"
     },
     "output_type": "display_data"
    },
    {
     "name": "stdout",
     "output_type": "stream",
     "text": [
      "This is a simple representation of your position:\n",
      "\n",
      "[[1 0 1 1 1 1 1 1]\n",
      " [1 2 0 0 0 1 1 1]\n",
      " [1 1 1 1 0 1 1 1]\n",
      " [1 1 1 1 0 1 1 1]\n",
      " [1 1 1 1 0 0 0 1]\n",
      " [0 0 0 1 1 1 0 1]\n",
      " [1 1 0 0 0 0 0 1]\n",
      " [1 1 1 1 1 1 1 1]]\n",
      "\n",
      "\n",
      "--------NEW MOVEMENT--------\n",
      "Insert gates you want to apply (Ex: H-X-H-R)\n",
      "q0--\n",
      "q1--\n",
      "           ░ ┌─┐   \n",
      "q_0: ─|0>──░─┤M├───\n",
      "           ░ └╥┘┌─┐\n",
      "q_1: ─|0>──░──╫─┤M├\n",
      "           ░  ║ └╥┘\n",
      "c_0: ═════════╩══╬═\n",
      "                 ║ \n",
      "c_1: ════════════╩═\n",
      "                   \n",
      "Tunneling failed... Try again\n"
     ]
    },
    {
     "data": {
      "image/png": "[encoded data removed]",
      "text/plain": [
       "<Figure size 432x288 with 1 Axes>"
      ]
     },
     "metadata": {
      "needs_background": "light"
     },
     "output_type": "display_data"
    },
    {
     "name": "stdout",
     "output_type": "stream",
     "text": [
      "This is a simple representation of your position:\n",
      "\n",
      "[[1 0 1 1 1 1 1 1]\n",
      " [1 2 0 0 0 1 1 1]\n",
      " [1 1 1 1 0 1 1 1]\n",
      " [1 1 1 1 0 1 1 1]\n",
      " [1 1 1 1 0 0 0 1]\n",
      " [0 0 0 1 1 1 0 1]\n",
      " [1 1 0 0 0 0 0 1]\n",
      " [1 1 1 1 1 1 1 1]]\n",
      "\n",
      "\n",
      "--------NEW MOVEMENT--------\n",
      "Insert gates you want to apply (Ex: H-X-H-R)\n",
      "q0--\n",
      "q1--\n",
      "           ░ ┌─┐   \n",
      "q_0: ─|0>──░─┤M├───\n",
      "           ░ └╥┘┌─┐\n",
      "q_1: ─|0>──░──╫─┤M├\n",
      "           ░  ║ └╥┘\n",
      "c_0: ═════════╩══╬═\n",
      "                 ║ \n",
      "c_1: ════════════╩═\n",
      "                   \n",
      "Tunneling failed... Try again\n"
     ]
    },
    {
     "data": {
      "image/png": "[encoded data removed]",
      "text/plain": [
       "<Figure size 432x288 with 1 Axes>"
      ]
     },
     "metadata": {
      "needs_background": "light"
     },
     "output_type": "display_data"
    },
    {
     "name": "stdout",
     "output_type": "stream",
     "text": [
      "This is a simple representation of your position:\n",
      "\n",
      "[[1 0 1 1 1 1 1 1]\n",
      " [1 2 0 0 0 1 1 1]\n",
      " [1 1 1 1 0 1 1 1]\n",
      " [1 1 1 1 0 1 1 1]\n",
      " [1 1 1 1 0 0 0 1]\n",
      " [0 0 0 1 1 1 0 1]\n",
      " [1 1 0 0 0 0 0 1]\n",
      " [1 1 1 1 1 1 1 1]]\n",
      "\n",
      "\n",
      "--------NEW MOVEMENT--------\n",
      "Insert gates you want to apply (Ex: H-X-H-R)\n",
      "q0--\n",
      "q1--\n",
      "           ░ ┌─┐   \n",
      "q_0: ─|0>──░─┤M├───\n",
      "           ░ └╥┘┌─┐\n",
      "q_1: ─|0>──░──╫─┤M├\n",
      "           ░  ║ └╥┘\n",
      "c_0: ═════════╩══╬═\n",
      "                 ║ \n",
      "c_1: ════════════╩═\n",
      "                   \n",
      "Tunneling failed... Try again\n"
     ]
    },
    {
     "data": {
      "image/png": "[encoded data removed]",
      "text/plain": [
       "<Figure size 432x288 with 1 Axes>"
      ]
     },
     "metadata": {
      "needs_background": "light"
     },
     "output_type": "display_data"
    },
    {
     "name": "stdout",
     "output_type": "stream",
     "text": [
      "This is a simple representation of your position:\n",
      "\n",
      "[[1 0 1 1 1 1 1 1]\n",
      " [1 2 0 0 0 1 1 1]\n",
      " [1 1 1 1 0 1 1 1]\n",
      " [1 1 1 1 0 1 1 1]\n",
      " [1 1 1 1 0 0 0 1]\n",
      " [0 0 0 1 1 1 0 1]\n",
      " [1 1 0 0 0 0 0 1]\n",
      " [1 1 1 1 1 1 1 1]]\n",
      "\n",
      "\n",
      "--------NEW MOVEMENT--------\n",
      "Insert gates you want to apply (Ex: H-X-H-R)\n",
      "q0--\n",
      "q1--\n",
      "           ░ ┌─┐   \n",
      "q_0: ─|0>──░─┤M├───\n",
      "           ░ └╥┘┌─┐\n",
      "q_1: ─|0>──░──╫─┤M├\n",
      "           ░  ║ └╥┘\n",
      "c_0: ═════════╩══╬═\n",
      "                 ║ \n",
      "c_1: ════════════╩═\n",
      "                   \n",
      "Tunneling failed... Try again\n"
     ]
    },
    {
     "data": {
      "image/png": "[encoded data removed]",
      "text/plain": [
       "<Figure size 432x288 with 1 Axes>"
      ]
     },
     "metadata": {
      "needs_background": "light"
     },
     "output_type": "display_data"
    },
    {
     "name": "stdout",
     "output_type": "stream",
     "text": [
      "This is a simple representation of your position:\n",
      "\n",
      "[[1 0 1 1 1 1 1 1]\n",
      " [1 2 0 0 0 1 1 1]\n",
      " [1 1 1 1 0 1 1 1]\n",
      " [1 1 1 1 0 1 1 1]\n",
      " [1 1 1 1 0 0 0 1]\n",
      " [0 0 0 1 1 1 0 1]\n",
      " [1 1 0 0 0 0 0 1]\n",
      " [1 1 1 1 1 1 1 1]]\n",
      "\n",
      "\n",
      "--------NEW MOVEMENT--------\n",
      "Insert gates you want to apply (Ex: H-X-H-R)\n",
      "q0--\n",
      "q1--\n",
      "           ░ ┌─┐   \n",
      "q_0: ─|0>──░─┤M├───\n",
      "           ░ └╥┘┌─┐\n",
      "q_1: ─|0>──░──╫─┤M├\n",
      "           ░  ║ └╥┘\n",
      "c_0: ═════════╩══╬═\n",
      "                 ║ \n",
      "c_1: ════════════╩═\n",
      "                   \n",
      "Tunneling failed... Try again\n"
     ]
    },
    {
     "data": {
      "image/png": "[encoded data removed]",
      "text/plain": [
       "<Figure size 432x288 with 1 Axes>"
      ]
     },
     "metadata": {
      "needs_background": "light"
     },
     "output_type": "display_data"
    },
    {
     "name": "stdout",
     "output_type": "stream",
     "text": [
      "This is a simple representation of your position:\n",
      "\n",
      "[[1 0 1 1 1 1 1 1]\n",
      " [1 2 0 0 0 1 1 1]\n",
      " [1 1 1 1 0 1 1 1]\n",
      " [1 1 1 1 0 1 1 1]\n",
      " [1 1 1 1 0 0 0 1]\n",
      " [0 0 0 1 1 1 0 1]\n",
      " [1 1 0 0 0 0 0 1]\n",
      " [1 1 1 1 1 1 1 1]]\n",
      "\n",
      "\n",
      "--------NEW MOVEMENT--------\n",
      "Insert gates you want to apply (Ex: H-X-H-R)\n",
      "q0--\n",
      "q1--\n",
      "           ░ ┌─┐   \n",
      "q_0: ─|0>──░─┤M├───\n",
      "           ░ └╥┘┌─┐\n",
      "q_1: ─|0>──░──╫─┤M├\n",
      "           ░  ║ └╥┘\n",
      "c_0: ═════════╩══╬═\n",
      "                 ║ \n",
      "c_1: ════════════╩═\n",
      "                   \n",
      "Tunneling failed... Try again\n"
     ]
    },
    {
     "data": {
      "image/png": "[encoded data removed]",
      "text/plain": [
       "<Figure size 432x288 with 1 Axes>"
      ]
     },
     "metadata": {
      "needs_background": "light"
     },
     "output_type": "display_data"
    },
    {
     "name": "stdout",
     "output_type": "stream",
     "text": [
      "This is a simple representation of your position:\n",
      "\n",
      "[[1 0 1 1 1 1 1 1]\n",
      " [1 2 0 0 0 1 1 1]\n",
      " [1 1 1 1 0 1 1 1]\n",
      " [1 1 1 1 0 1 1 1]\n",
      " [1 1 1 1 0 0 0 1]\n",
      " [0 0 0 1 1 1 0 1]\n",
      " [1 1 0 0 0 0 0 1]\n",
      " [1 1 1 1 1 1 1 1]]\n",
      "\n",
      "\n",
      "--------NEW MOVEMENT--------\n",
      "Insert gates you want to apply (Ex: H-X-H-R)\n",
      "q0--\n",
      "q1--\n",
      "           ░ ┌─┐   \n",
      "q_0: ─|0>──░─┤M├───\n",
      "           ░ └╥┘┌─┐\n",
      "q_1: ─|0>──░──╫─┤M├\n",
      "           ░  ║ └╥┘\n",
      "c_0: ═════════╩══╬═\n",
      "                 ║ \n",
      "c_1: ════════════╩═\n",
      "                   \n",
      "Tunneling failed... Try again\n"
     ]
    },
    {
     "data": {
      "image/png": "[encoded data removed]",
      "text/plain": [
       "<Figure size 432x288 with 1 Axes>"
      ]
     },
     "metadata": {
      "needs_background": "light"
     },
     "output_type": "display_data"
    },
    {
     "name": "stdout",
     "output_type": "stream",
     "text": [
      "This is a simple representation of your position:\n",
      "\n",
      "[[1 0 1 1 1 1 1 1]\n",
      " [1 2 0 0 0 1 1 1]\n",
      " [1 1 1 1 0 1 1 1]\n",
      " [1 1 1 1 0 1 1 1]\n",
      " [1 1 1 1 0 0 0 1]\n",
      " [0 0 0 1 1 1 0 1]\n",
      " [1 1 0 0 0 0 0 1]\n",
      " [1 1 1 1 1 1 1 1]]\n",
      "\n",
      "\n",
      "--------NEW MOVEMENT--------\n",
      "Insert gates you want to apply (Ex: H-X-H-R)\n",
      "q0--\n",
      "q1--\n",
      "           ░ ┌─┐   \n",
      "q_0: ─|0>──░─┤M├───\n",
      "           ░ └╥┘┌─┐\n",
      "q_1: ─|0>──░──╫─┤M├\n",
      "           ░  ║ └╥┘\n",
      "c_0: ═════════╩══╬═\n",
      "                 ║ \n",
      "c_1: ════════════╩═\n",
      "                   \n",
      "Tunneling failed... Try again\n"
     ]
    },
    {
     "data": {
      "image/png": "[encoded data removed]",
      "text/plain": [
       "<Figure size 432x288 with 1 Axes>"
      ]
     },
     "metadata": {
      "needs_background": "light"
     },
     "output_type": "display_data"
    },
    {
     "name": "stdout",
     "output_type": "stream",
     "text": [
      "This is a simple representation of your position:\n",
      "\n",
      "[[1 0 1 1 1 1 1 1]\n",
      " [1 2 0 0 0 1 1 1]\n",
      " [1 1 1 1 0 1 1 1]\n",
      " [1 1 1 1 0 1 1 1]\n",
      " [1 1 1 1 0 0 0 1]\n",
      " [0 0 0 1 1 1 0 1]\n",
      " [1 1 0 0 0 0 0 1]\n",
      " [1 1 1 1 1 1 1 1]]\n",
      "\n",
      "\n",
      "--------NEW MOVEMENT--------\n",
      "Insert gates you want to apply (Ex: H-X-H-R)\n",
      "q0--\n",
      "q1--\n",
      "           ░ ┌─┐   \n",
      "q_0: ─|0>──░─┤M├───\n",
      "           ░ └╥┘┌─┐\n",
      "q_1: ─|0>──░──╫─┤M├\n",
      "           ░  ║ └╥┘\n",
      "c_0: ═════════╩══╬═\n",
      "                 ║ \n",
      "c_1: ════════════╩═\n",
      "                   \n",
      "Tunneling failed... Try again\n"
     ]
    },
    {
     "data": {
      "image/png": "[encoded data removed]",
      "text/plain": [
       "<Figure size 432x288 with 1 Axes>"
      ]
     },
     "metadata": {
      "needs_background": "light"
     },
     "output_type": "display_data"
    },
    {
     "name": "stdout",
     "output_type": "stream",
     "text": [
      "q0--\n",
      "This is a simple representation of your position:\n",
      "\n",
      "[[1 0 1 1 1 1 1 1]\n",
      " [1 2 0 0 0 1 1 1]\n",
      " [1 1 1 1 0 1 1 1]\n",
      " [1 1 1 1 0 1 1 1]\n",
      " [1 1 1 1 0 0 0 1]\n",
      " [0 0 0 1 1 1 0 1]\n",
      " [1 1 0 0 0 0 0 1]\n",
      " [1 1 1 1 1 1 1 1]]\n",
      "\n",
      "\n",
      "--------NEW MOVEMENT--------\n",
      "Insert gates you want to apply (Ex: H-X-H-R)\n",
      "q1--\n",
      "           ░ ┌─┐   \n",
      "q_0: ─|0>──░─┤M├───\n",
      "           ░ └╥┘┌─┐\n",
      "q_1: ─|0>──░──╫─┤M├\n",
      "           ░  ║ └╥┘\n",
      "c_0: ═════════╩══╬═\n",
      "                 ║ \n",
      "c_1: ════════════╩═\n",
      "                   \n",
      "Tunneling failed... Try again\n"
     ]
    },
    {
     "data": {
      "image/png": "[encoded data removed]",
      "text/plain": [
       "<Figure size 432x288 with 1 Axes>"
      ]
     },
     "metadata": {
      "needs_background": "light"
     },
     "output_type": "display_data"
    },
    {
     "name": "stdout",
     "output_type": "stream",
     "text": [
      "This is a simple representation of your position:\n",
      "\n",
      "[[1 0 1 1 1 1 1 1]\n",
      " [1 2 0 0 0 1 1 1]\n",
      " [1 1 1 1 0 1 1 1]\n",
      " [1 1 1 1 0 1 1 1]\n",
      " [1 1 1 1 0 0 0 1]\n",
      " [0 0 0 1 1 1 0 1]\n",
      " [1 1 0 0 0 0 0 1]\n",
      " [1 1 1 1 1 1 1 1]]\n",
      "\n",
      "\n",
      "--------NEW MOVEMENT--------\n",
      "Insert gates you want to apply (Ex: H-X-H-R)\n",
      "q0--\n",
      "q1--\n",
      "           ░ ┌─┐   \n",
      "q_0: ─|0>──░─┤M├───\n",
      "           ░ └╥┘┌─┐\n",
      "q_1: ─|0>──░──╫─┤M├\n",
      "           ░  ║ └╥┘\n",
      "c_0: ═════════╩══╬═\n",
      "                 ║ \n",
      "c_1: ════════════╩═\n",
      "                   \n",
      "Tunneling failed... Try again\n"
     ]
    },
    {
     "data": {
      "image/png": "[encoded data removed]",
      "text/plain": [
       "<Figure size 432x288 with 1 Axes>"
      ]
     },
     "metadata": {
      "needs_background": "light"
     },
     "output_type": "display_data"
    },
    {
     "name": "stdout",
     "output_type": "stream",
     "text": [
      "q0--\n",
      "This is a simple representation of your position:\n",
      "\n",
      "[[1 0 1 1 1 1 1 1]\n",
      " [1 2 0 0 0 1 1 1]\n",
      " [1 1 1 1 0 1 1 1]\n",
      " [1 1 1 1 0 1 1 1]\n",
      " [1 1 1 1 0 0 0 1]\n",
      " [0 0 0 1 1 1 0 1]\n",
      " [1 1 0 0 0 0 0 1]\n",
      " [1 1 1 1 1 1 1 1]]\n",
      "\n",
      "\n",
      "--------NEW MOVEMENT--------\n",
      "Insert gates you want to apply (Ex: H-X-H-R)\n",
      "q1--\n",
      "           ░ ┌─┐   \n",
      "q_0: ─|0>──░─┤M├───\n",
      "           ░ └╥┘┌─┐\n",
      "q_1: ─|0>──░──╫─┤M├\n",
      "           ░  ║ └╥┘\n",
      "c_0: ═════════╩══╬═\n",
      "                 ║ \n",
      "c_1: ════════════╩═\n",
      "                   \n",
      "Tunneling failed... Try again\n"
     ]
    },
    {
     "data": {
      "image/png": "[encoded data removed]",
      "text/plain": [
       "<Figure size 432x288 with 1 Axes>"
      ]
     },
     "metadata": {
      "needs_background": "light"
     },
     "output_type": "display_data"
    },
    {
     "name": "stdout",
     "output_type": "stream",
     "text": [
      "This is a simple representation of your position:\n",
      "\n",
      "[[1 0 1 1 1 1 1 1]\n",
      " [1 2 0 0 0 1 1 1]\n",
      " [1 1 1 1 0 1 1 1]\n",
      " [1 1 1 1 0 1 1 1]\n",
      " [1 1 1 1 0 0 0 1]\n",
      " [0 0 0 1 1 1 0 1]\n",
      " [1 1 0 0 0 0 0 1]\n",
      " [1 1 1 1 1 1 1 1]]\n",
      "\n",
      "\n",
      "--------NEW MOVEMENT--------\n",
      "Insert gates you want to apply (Ex: H-X-H-R)\n",
      "q0--\n",
      "q1--\n",
      "           ░ ┌─┐   \n",
      "q_0: ─|0>──░─┤M├───\n",
      "           ░ └╥┘┌─┐\n",
      "q_1: ─|0>──░──╫─┤M├\n",
      "           ░  ║ └╥┘\n",
      "c_0: ═════════╩══╬═\n",
      "                 ║ \n",
      "c_1: ════════════╩═\n",
      "                   \n",
      "Tunneling failed... Try again\n"
     ]
    },
    {
     "data": {
      "image/png": "[encoded data removed]",
      "text/plain": [
       "<Figure size 432x288 with 1 Axes>"
      ]
     },
     "metadata": {
      "needs_background": "light"
     },
     "output_type": "display_data"
    },
    {
     "name": "stdout",
     "output_type": "stream",
     "text": [
      "This is a simple representation of your position:\n",
      "\n",
      "[[1 0 1 1 1 1 1 1]\n",
      " [1 2 0 0 0 1 1 1]\n",
      " [1 1 1 1 0 1 1 1]\n",
      " [1 1 1 1 0 1 1 1]\n",
      " [1 1 1 1 0 0 0 1]\n",
      " [0 0 0 1 1 1 0 1]\n",
      " [1 1 0 0 0 0 0 1]\n",
      " [1 1 1 1 1 1 1 1]]\n",
      "\n",
      "\n",
      "--------NEW MOVEMENT--------\n",
      "Insert gates you want to apply (Ex: H-X-H-R)\n",
      "q0--\n",
      "q1--\n",
      "           ░ ┌─┐   \n",
      "q_0: ─|0>──░─┤M├───\n",
      "           ░ └╥┘┌─┐\n",
      "q_1: ─|0>──░──╫─┤M├\n",
      "           ░  ║ └╥┘\n",
      "c_0: ═════════╩══╬═\n",
      "                 ║ \n",
      "c_1: ════════════╩═\n",
      "                   \n",
      "Tunneling failed... Try again\n"
     ]
    },
    {
     "data": {
      "image/png": "[encoded data removed]",
      "text/plain": [
       "<Figure size 432x288 with 1 Axes>"
      ]
     },
     "metadata": {
      "needs_background": "light"
     },
     "output_type": "display_data"
    },
    {
     "name": "stdout",
     "output_type": "stream",
     "text": [
      "This is a simple representation of your position:\n",
      "\n",
      "[[1 0 1 1 1 1 1 1]\n",
      " [1 2 0 0 0 1 1 1]\n",
      " [1 1 1 1 0 1 1 1]\n",
      " [1 1 1 1 0 1 1 1]\n",
      " [1 1 1 1 0 0 0 1]\n",
      " [0 0 0 1 1 1 0 1]\n",
      " [1 1 0 0 0 0 0 1]\n",
      " [1 1 1 1 1 1 1 1]]\n",
      "\n",
      "\n",
      "--------NEW MOVEMENT--------\n",
      "Insert gates you want to apply (Ex: H-X-H-R)\n",
      "q0--\n",
      "q1--\n",
      "           ░ ┌─┐   \n",
      "q_0: ─|0>──░─┤M├───\n",
      "           ░ └╥┘┌─┐\n",
      "q_1: ─|0>──░──╫─┤M├\n",
      "           ░  ║ └╥┘\n",
      "c_0: ═════════╩══╬═\n",
      "                 ║ \n",
      "c_1: ════════════╩═\n",
      "                   \n"
     ]
    },
    {
     "data": {
      "image/png": "[encoded data removed]",
      "text/plain": [
       "<Figure size 432x288 with 1 Axes>"
      ]
     },
     "metadata": {
      "needs_background": "light"
     },
     "output_type": "display_data"
    },
    {
     "name": "stdout",
     "output_type": "stream",
     "text": [
      "This is a simple representation of your position:\n",
      "\n",
      "[[1 0 1 1 1 1 1 1]\n",
      " [1 0 0 0 0 1 1 1]\n",
      " [1 1 1 1 0 1 1 1]\n",
      " [1 1 1 1 0 1 1 1]\n",
      " [1 1 1 1 0 0 0 1]\n",
      " [0 2 0 1 1 1 0 1]\n",
      " [1 1 0 0 0 0 0 1]\n",
      " [1 1 1 1 1 1 1 1]]\n",
      "\n",
      "\n",
      "--------NEW MOVEMENT--------\n",
      "Insert gates you want to apply (Ex: H-X-H-R)\n",
      "q0--\n",
      "q1--\n",
      "           ░ ┌─┐   \n",
      "q_0: ─|0>──░─┤M├───\n",
      "           ░ └╥┘┌─┐\n",
      "q_1: ─|0>──░──╫─┤M├\n",
      "           ░  ║ └╥┘\n",
      "c_0: ═════════╩══╬═\n",
      "                 ║ \n",
      "c_1: ════════════╩═\n",
      "                   \n",
      "Tunneling failed... Try again\n"
     ]
    },
    {
     "data": {
      "image/png": "[encoded data removed]",
      "text/plain": [
       "<Figure size 432x288 with 1 Axes>"
      ]
     },
     "metadata": {
      "needs_background": "light"
     },
     "output_type": "display_data"
    },
    {
     "name": "stdout",
     "output_type": "stream",
     "text": [
      "This is a simple representation of your position:\n",
      "\n",
      "[[1 0 1 1 1 1 1 1]\n",
      " [1 0 0 0 0 1 1 1]\n",
      " [1 1 1 1 0 1 1 1]\n",
      " [1 1 1 1 0 1 1 1]\n",
      " [1 1 1 1 0 0 0 1]\n",
      " [0 2 0 1 1 1 0 1]\n",
      " [1 1 0 0 0 0 0 1]\n",
      " [1 1 1 1 1 1 1 1]]\n",
      "\n",
      "\n",
      "--------NEW MOVEMENT--------\n",
      "Insert gates you want to apply (Ex: H-X-H-R)\n",
      "q0--\n",
      "q1--\n",
      "           ░ ┌─┐   \n",
      "q_0: ─|0>──░─┤M├───\n",
      "           ░ └╥┘┌─┐\n",
      "q_1: ─|0>──░──╫─┤M├\n",
      "           ░  ║ └╥┘\n",
      "c_0: ═════════╩══╬═\n",
      "                 ║ \n",
      "c_1: ════════════╩═\n",
      "                   \n",
      "Tunneling failed... Try again\n"
     ]
    },
    {
     "data": {
      "image/png": "[encoded data removed]",
      "text/plain": [
       "<Figure size 432x288 with 1 Axes>"
      ]
     },
     "metadata": {
      "needs_background": "light"
     },
     "output_type": "display_data"
    },
    {
     "name": "stdout",
     "output_type": "stream",
     "text": [
      "This is a simple representation of your position:\n",
      "\n",
      "[[1 0 1 1 1 1 1 1]\n",
      " [1 0 0 0 0 1 1 1]\n",
      " [1 1 1 1 0 1 1 1]\n",
      " [1 1 1 1 0 1 1 1]\n",
      " [1 1 1 1 0 0 0 1]\n",
      " [0 2 0 1 1 1 0 1]\n",
      " [1 1 0 0 0 0 0 1]\n",
      " [1 1 1 1 1 1 1 1]]\n",
      "\n",
      "\n",
      "--------NEW MOVEMENT--------\n",
      "Insert gates you want to apply (Ex: H-X-H-R)\n",
      "q0--\n",
      "q1--\n",
      "           ░ ┌─┐   \n",
      "q_0: ─|0>──░─┤M├───\n",
      "           ░ └╥┘┌─┐\n",
      "q_1: ─|0>──░──╫─┤M├\n",
      "           ░  ║ └╥┘\n",
      "c_0: ═════════╩══╬═\n",
      "                 ║ \n",
      "c_1: ════════════╩═\n",
      "                   \n",
      "Tunneling failed... Try again\n"
     ]
    },
    {
     "data": {
      "image/png": "[encoded data removed]",
      "text/plain": [
       "<Figure size 432x288 with 1 Axes>"
      ]
     },
     "metadata": {
      "needs_background": "light"
     },
     "output_type": "display_data"
    },
    {
     "name": "stdout",
     "output_type": "stream",
     "text": [
      "This is a simple representation of your position:\n",
      "\n",
      "[[1 0 1 1 1 1 1 1]\n",
      " [1 0 0 0 0 1 1 1]\n",
      " [1 1 1 1 0 1 1 1]\n",
      " [1 1 1 1 0 1 1 1]\n",
      " [1 1 1 1 0 0 0 1]\n",
      " [0 2 0 1 1 1 0 1]\n",
      " [1 1 0 0 0 0 0 1]\n",
      " [1 1 1 1 1 1 1 1]]\n",
      "\n",
      "\n",
      "--------NEW MOVEMENT--------\n",
      "Insert gates you want to apply (Ex: H-X-H-R)\n",
      "q0--\n",
      "q1--\n",
      "           ░ ┌─┐   \n",
      "q_0: ─|0>──░─┤M├───\n",
      "           ░ └╥┘┌─┐\n",
      "q_1: ─|0>──░──╫─┤M├\n",
      "           ░  ║ └╥┘\n",
      "c_0: ═════════╩══╬═\n",
      "                 ║ \n",
      "c_1: ════════════╩═\n",
      "                   \n",
      "Tunneling failed... Try again\n"
     ]
    },
    {
     "data": {
      "image/png": "[encoded data removed]",
      "text/plain": [
       "<Figure size 432x288 with 1 Axes>"
      ]
     },
     "metadata": {
      "needs_background": "light"
     },
     "output_type": "display_data"
    },
    {
     "name": "stdout",
     "output_type": "stream",
     "text": [
      "This is a simple representation of your position:\n",
      "\n",
      "[[1 0 1 1 1 1 1 1]\n",
      " [1 0 0 0 0 1 1 1]\n",
      " [1 1 1 1 0 1 1 1]\n",
      " [1 1 1 1 0 1 1 1]\n",
      " [1 1 1 1 0 0 0 1]\n",
      " [0 2 0 1 1 1 0 1]\n",
      " [1 1 0 0 0 0 0 1]\n",
      " [1 1 1 1 1 1 1 1]]\n",
      "\n",
      "\n",
      "--------NEW MOVEMENT--------\n",
      "Insert gates you want to apply (Ex: H-X-H-R)\n",
      "q0--\n",
      "q1--\n",
      "           ░ ┌─┐   \n",
      "q_0: ─|0>──░─┤M├───\n",
      "           ░ └╥┘┌─┐\n",
      "q_1: ─|0>──░──╫─┤M├\n",
      "           ░  ║ └╥┘\n",
      "c_0: ═════════╩══╬═\n",
      "                 ║ \n",
      "c_1: ════════════╩═\n",
      "                   \n",
      "Tunneling failed... Try again\n"
     ]
    },
    {
     "data": {
      "image/png": "[encoded data removed]",
      "text/plain": [
       "<Figure size 432x288 with 1 Axes>"
      ]
     },
     "metadata": {
      "needs_background": "light"
     },
     "output_type": "display_data"
    },
    {
     "name": "stdout",
     "output_type": "stream",
     "text": [
      "This is a simple representation of your position:\n",
      "\n",
      "[[1 0 1 1 1 1 1 1]\n",
      " [1 0 0 0 0 1 1 1]\n",
      " [1 1 1 1 0 1 1 1]\n",
      " [1 1 1 1 0 1 1 1]\n",
      " [1 1 1 1 0 0 0 1]\n",
      " [0 2 0 1 1 1 0 1]\n",
      " [1 1 0 0 0 0 0 1]\n",
      " [1 1 1 1 1 1 1 1]]\n",
      "\n",
      "\n",
      "--------NEW MOVEMENT--------\n",
      "Insert gates you want to apply (Ex: H-X-H-R)\n",
      "q0--\n",
      "q1--\n",
      "           ░ ┌─┐   \n",
      "q_0: ─|0>──░─┤M├───\n",
      "           ░ └╥┘┌─┐\n",
      "q_1: ─|0>──░──╫─┤M├\n",
      "           ░  ║ └╥┘\n",
      "c_0: ═════════╩══╬═\n",
      "                 ║ \n",
      "c_1: ════════════╩═\n",
      "                   \n",
      "Tunneling failed... Try again\n"
     ]
    },
    {
     "data": {
      "image/png": "[encoded data removed]",
      "text/plain": [
       "<Figure size 432x288 with 1 Axes>"
      ]
     },
     "metadata": {
      "needs_background": "light"
     },
     "output_type": "display_data"
    },
    {
     "name": "stdout",
     "output_type": "stream",
     "text": [
      "This is a simple representation of your position:\n",
      "\n",
      "[[1 0 1 1 1 1 1 1]\n",
      " [1 0 0 0 0 1 1 1]\n",
      " [1 1 1 1 0 1 1 1]\n",
      " [1 1 1 1 0 1 1 1]\n",
      " [1 1 1 1 0 0 0 1]\n",
      " [0 2 0 1 1 1 0 1]\n",
      " [1 1 0 0 0 0 0 1]\n",
      " [1 1 1 1 1 1 1 1]]\n",
      "\n",
      "\n",
      "--------NEW MOVEMENT--------\n",
      "Insert gates you want to apply (Ex: H-X-H-R)\n",
      "q0--\n",
      "q1--\n",
      "           ░ ┌─┐   \n",
      "q_0: ─|0>──░─┤M├───\n",
      "           ░ └╥┘┌─┐\n",
      "q_1: ─|0>──░──╫─┤M├\n",
      "           ░  ║ └╥┘\n",
      "c_0: ═════════╩══╬═\n",
      "                 ║ \n",
      "c_1: ════════════╩═\n",
      "                   \n",
      "Tunneling failed... Try again\n"
     ]
    },
    {
     "data": {
      "image/png": "[encoded data removed]",
      "text/plain": [
       "<Figure size 432x288 with 1 Axes>"
      ]
     },
     "metadata": {
      "needs_background": "light"
     },
     "output_type": "display_data"
    },
    {
     "name": "stdout",
     "output_type": "stream",
     "text": [
      "This is a simple representation of your position:\n",
      "\n",
      "[[1 0 1 1 1 1 1 1]\n",
      " [1 0 0 0 0 1 1 1]\n",
      " [1 1 1 1 0 1 1 1]\n",
      " [1 1 1 1 0 1 1 1]\n",
      " [1 1 1 1 0 0 0 1]\n",
      " [0 2 0 1 1 1 0 1]\n",
      " [1 1 0 0 0 0 0 1]\n",
      " [1 1 1 1 1 1 1 1]]\n",
      "\n",
      "\n",
      "--------NEW MOVEMENT--------\n",
      "Insert gates you want to apply (Ex: H-X-H-R)\n",
      "q0--\n",
      "q1--\n",
      "           ░ ┌─┐   \n",
      "q_0: ─|0>──░─┤M├───\n",
      "           ░ └╥┘┌─┐\n",
      "q_1: ─|0>──░──╫─┤M├\n",
      "           ░  ║ └╥┘\n",
      "c_0: ═════════╩══╬═\n",
      "                 ║ \n",
      "c_1: ════════════╩═\n",
      "                   \n",
      "Tunneling failed... Try again\n"
     ]
    },
    {
     "data": {
      "image/png": "[encoded data removed]",
      "text/plain": [
       "<Figure size 432x288 with 1 Axes>"
      ]
     },
     "metadata": {
      "needs_background": "light"
     },
     "output_type": "display_data"
    },
    {
     "name": "stdout",
     "output_type": "stream",
     "text": [
      "This is a simple representation of your position:\n",
      "\n",
      "[[1 0 1 1 1 1 1 1]\n",
      " [1 0 0 0 0 1 1 1]\n",
      " [1 1 1 1 0 1 1 1]\n",
      " [1 1 1 1 0 1 1 1]\n",
      " [1 1 1 1 0 0 0 1]\n",
      " [0 2 0 1 1 1 0 1]\n",
      " [1 1 0 0 0 0 0 1]\n",
      " [1 1 1 1 1 1 1 1]]\n",
      "\n",
      "\n",
      "--------NEW MOVEMENT--------\n",
      "Insert gates you want to apply (Ex: H-X-H-R)\n",
      "q0--\n",
      "q1--\n",
      "           ░ ┌─┐   \n",
      "q_0: ─|0>──░─┤M├───\n",
      "           ░ └╥┘┌─┐\n",
      "q_1: ─|0>──░──╫─┤M├\n",
      "           ░  ║ └╥┘\n",
      "c_0: ═════════╩══╬═\n",
      "                 ║ \n",
      "c_1: ════════════╩═\n",
      "                   \n",
      "Tunneling failed... Try again\n"
     ]
    },
    {
     "data": {
      "image/png": "[encoded data removed]",
      "text/plain": [
       "<Figure size 432x288 with 1 Axes>"
      ]
     },
     "metadata": {
      "needs_background": "light"
     },
     "output_type": "display_data"
    },
    {
     "name": "stdout",
     "output_type": "stream",
     "text": [
      "This is a simple representation of your position:\n",
      "\n",
      "[[1 0 1 1 1 1 1 1]\n",
      " [1 0 0 0 0 1 1 1]\n",
      " [1 1 1 1 0 1 1 1]\n",
      " [1 1 1 1 0 1 1 1]\n",
      " [1 1 1 1 0 0 0 1]\n",
      " [0 2 0 1 1 1 0 1]\n",
      " [1 1 0 0 0 0 0 1]\n",
      " [1 1 1 1 1 1 1 1]]\n",
      "\n",
      "\n",
      "--------NEW MOVEMENT--------\n",
      "Insert gates you want to apply (Ex: H-X-H-R)\n",
      "q0--\n",
      "q1--\n",
      "           ░ ┌─┐   \n",
      "q_0: ─|0>──░─┤M├───\n",
      "           ░ └╥┘┌─┐\n",
      "q_1: ─|0>──░──╫─┤M├\n",
      "           ░  ║ └╥┘\n",
      "c_0: ═════════╩══╬═\n",
      "                 ║ \n",
      "c_1: ════════════╩═\n",
      "                   \n",
      "Tunneling failed... Try again\n"
     ]
    },
    {
     "data": {
      "image/png": "[encoded data removed]",
      "text/plain": [
       "<Figure size 432x288 with 1 Axes>"
      ]
     },
     "metadata": {
      "needs_background": "light"
     },
     "output_type": "display_data"
    },
    {
     "name": "stdout",
     "output_type": "stream",
     "text": [
      "This is a simple representation of your position:\n",
      "\n",
      "[[1 0 1 1 1 1 1 1]\n",
      " [1 0 0 0 0 1 1 1]\n",
      " [1 1 1 1 0 1 1 1]\n",
      " [1 1 1 1 0 1 1 1]\n",
      " [1 1 1 1 0 0 0 1]\n",
      " [0 2 0 1 1 1 0 1]\n",
      " [1 1 0 0 0 0 0 1]\n",
      " [1 1 1 1 1 1 1 1]]\n",
      "\n",
      "\n",
      "--------NEW MOVEMENT--------\n",
      "Insert gates you want to apply (Ex: H-X-H-R)\n",
      "q0--\n",
      "q1--\n",
      "           ░ ┌─┐   \n",
      "q_0: ─|0>──░─┤M├───\n",
      "           ░ └╥┘┌─┐\n",
      "q_1: ─|0>──░──╫─┤M├\n",
      "           ░  ║ └╥┘\n",
      "c_0: ═════════╩══╬═\n",
      "                 ║ \n",
      "c_1: ════════════╩═\n",
      "                   \n",
      "Tunneling failed... Try again\n"
     ]
    },
    {
     "data": {
      "image/png": "[encoded data removed]",
      "text/plain": [
       "<Figure size 432x288 with 1 Axes>"
      ]
     },
     "metadata": {
      "needs_background": "light"
     },
     "output_type": "display_data"
    },
    {
     "name": "stdout",
     "output_type": "stream",
     "text": [
      "This is a simple representation of your position:\n",
      "\n",
      "[[1 0 1 1 1 1 1 1]\n",
      " [1 0 0 0 0 1 1 1]\n",
      " [1 1 1 1 0 1 1 1]\n",
      " [1 1 1 1 0 1 1 1]\n",
      " [1 1 1 1 0 0 0 1]\n",
      " [0 2 0 1 1 1 0 1]\n",
      " [1 1 0 0 0 0 0 1]\n",
      " [1 1 1 1 1 1 1 1]]\n",
      "\n",
      "\n",
      "--------NEW MOVEMENT--------\n",
      "Insert gates you want to apply (Ex: H-X-H-R)\n",
      "q0--\n",
      "q1--\n",
      "           ░ ┌─┐   \n",
      "q_0: ─|0>──░─┤M├───\n",
      "           ░ └╥┘┌─┐\n",
      "q_1: ─|0>──░──╫─┤M├\n",
      "           ░  ║ └╥┘\n",
      "c_0: ═════════╩══╬═\n",
      "                 ║ \n",
      "c_1: ════════════╩═\n",
      "                   \n",
      "Tunneling failed... Try again\n"
     ]
    },
    {
     "data": {
      "image/png": "[encoded data removed]",
      "text/plain": [
       "<Figure size 432x288 with 1 Axes>"
      ]
     },
     "metadata": {
      "needs_background": "light"
     },
     "output_type": "display_data"
    },
    {
     "name": "stdout",
     "output_type": "stream",
     "text": [
      "This is a simple representation of your position:\n",
      "\n",
      "[[1 0 1 1 1 1 1 1]\n",
      " [1 0 0 0 0 1 1 1]\n",
      " [1 1 1 1 0 1 1 1]\n",
      " [1 1 1 1 0 1 1 1]\n",
      " [1 1 1 1 0 0 0 1]\n",
      " [0 2 0 1 1 1 0 1]\n",
      " [1 1 0 0 0 0 0 1]\n",
      " [1 1 1 1 1 1 1 1]]\n",
      "\n",
      "\n",
      "--------NEW MOVEMENT--------\n",
      "Insert gates you want to apply (Ex: H-X-H-R)\n",
      "q0--\n",
      "q1--\n",
      "           ░ ┌─┐   \n",
      "q_0: ─|0>──░─┤M├───\n",
      "           ░ └╥┘┌─┐\n",
      "q_1: ─|0>──░──╫─┤M├\n",
      "           ░  ║ └╥┘\n",
      "c_0: ═════════╩══╬═\n",
      "                 ║ \n",
      "c_1: ════════════╩═\n",
      "                   \n",
      "Tunneling failed... Try again\n"
     ]
    },
    {
     "data": {
      "image/png": "[encoded data removed]",
      "text/plain": [
       "<Figure size 432x288 with 1 Axes>"
      ]
     },
     "metadata": {
      "needs_background": "light"
     },
     "output_type": "display_data"
    },
    {
     "name": "stdout",
     "output_type": "stream",
     "text": [
      "This is a simple representation of your position:\n",
      "\n",
      "[[1 0 1 1 1 1 1 1]\n",
      " [1 0 0 0 0 1 1 1]\n",
      " [1 1 1 1 0 1 1 1]\n",
      " [1 1 1 1 0 1 1 1]\n",
      " [1 1 1 1 0 0 0 1]\n",
      " [0 2 0 1 1 1 0 1]\n",
      " [1 1 0 0 0 0 0 1]\n",
      " [1 1 1 1 1 1 1 1]]\n",
      "\n",
      "\n",
      "--------NEW MOVEMENT--------\n",
      "Insert gates you want to apply (Ex: H-X-H-R)\n",
      "q0--\n",
      "q1--\n",
      "           ░ ┌─┐   \n",
      "q_0: ─|0>──░─┤M├───\n",
      "           ░ └╥┘┌─┐\n",
      "q_1: ─|0>──░──╫─┤M├\n",
      "           ░  ║ └╥┘\n",
      "c_0: ═════════╩══╬═\n",
      "                 ║ \n",
      "c_1: ════════════╩═\n",
      "                   \n",
      "Tunneling failed... Try again\n"
     ]
    },
    {
     "data": {
      "image/png": "[encoded data removed]",
      "text/plain": [
       "<Figure size 432x288 with 1 Axes>"
      ]
     },
     "metadata": {
      "needs_background": "light"
     },
     "output_type": "display_data"
    },
    {
     "name": "stdout",
     "output_type": "stream",
     "text": [
      "This is a simple representation of your position:\n",
      "\n",
      "[[1 0 1 1 1 1 1 1]\n",
      " [1 0 0 0 0 1 1 1]\n",
      " [1 1 1 1 0 1 1 1]\n",
      " [1 1 1 1 0 1 1 1]\n",
      " [1 1 1 1 0 0 0 1]\n",
      " [0 2 0 1 1 1 0 1]\n",
      " [1 1 0 0 0 0 0 1]\n",
      " [1 1 1 1 1 1 1 1]]\n",
      "\n",
      "\n",
      "--------NEW MOVEMENT--------\n",
      "Insert gates you want to apply (Ex: H-X-H-R)\n",
      "q0--\n",
      "q1--\n",
      "           ░ ┌─┐   \n",
      "q_0: ─|0>──░─┤M├───\n",
      "           ░ └╥┘┌─┐\n",
      "q_1: ─|0>──░──╫─┤M├\n",
      "           ░  ║ └╥┘\n",
      "c_0: ═════════╩══╬═\n",
      "                 ║ \n",
      "c_1: ════════════╩═\n",
      "                   \n",
      "Tunneling failed... Try again\n"
     ]
    },
    {
     "data": {
      "image/png": "[encoded data removed]",
      "text/plain": [
       "<Figure size 432x288 with 1 Axes>"
      ]
     },
     "metadata": {
      "needs_background": "light"
     },
     "output_type": "display_data"
    },
    {
     "name": "stdout",
     "output_type": "stream",
     "text": [
      "This is a simple representation of your position:\n",
      "\n",
      "[[1 0 1 1 1 1 1 1]\n",
      " [1 0 0 0 0 1 1 1]\n",
      " [1 1 1 1 0 1 1 1]\n",
      " [1 1 1 1 0 1 1 1]\n",
      " [1 1 1 1 0 0 0 1]\n",
      " [0 2 0 1 1 1 0 1]\n",
      " [1 1 0 0 0 0 0 1]\n",
      " [1 1 1 1 1 1 1 1]]\n",
      "\n",
      "\n",
      "--------NEW MOVEMENT--------\n",
      "Insert gates you want to apply (Ex: H-X-H-R)\n",
      "q0--\n",
      "q1--\n",
      "           ░ ┌─┐   \n",
      "q_0: ─|0>──░─┤M├───\n",
      "           ░ └╥┘┌─┐\n",
      "q_1: ─|0>──░──╫─┤M├\n",
      "           ░  ║ └╥┘\n",
      "c_0: ═════════╩══╬═\n",
      "                 ║ \n",
      "c_1: ════════════╩═\n",
      "                   \n",
      "Tunneling failed... Try again\n"
     ]
    },
    {
     "data": {
      "image/png": "[encoded data removed]",
      "text/plain": [
       "<Figure size 432x288 with 1 Axes>"
      ]
     },
     "metadata": {
      "needs_background": "light"
     },
     "output_type": "display_data"
    },
    {
     "name": "stdout",
     "output_type": "stream",
     "text": [
      "This is a simple representation of your position:\n",
      "\n",
      "[[1 0 1 1 1 1 1 1]\n",
      " [1 0 0 0 0 1 1 1]\n",
      " [1 1 1 1 0 1 1 1]\n",
      " [1 1 1 1 0 1 1 1]\n",
      " [1 1 1 1 0 0 0 1]\n",
      " [0 2 0 1 1 1 0 1]\n",
      " [1 1 0 0 0 0 0 1]\n",
      " [1 1 1 1 1 1 1 1]]\n",
      "\n",
      "\n",
      "--------NEW MOVEMENT--------\n",
      "Insert gates you want to apply (Ex: H-X-H-R)\n",
      "q0--\n",
      "q1--\n",
      "           ░ ┌─┐   \n",
      "q_0: ─|0>──░─┤M├───\n",
      "           ░ └╥┘┌─┐\n",
      "q_1: ─|0>──░──╫─┤M├\n",
      "           ░  ║ └╥┘\n",
      "c_0: ═════════╩══╬═\n",
      "                 ║ \n",
      "c_1: ════════════╩═\n",
      "                   \n",
      "Tunneling failed... Try again\n"
     ]
    },
    {
     "data": {
      "image/png": "[encoded data removed]",
      "text/plain": [
       "<Figure size 432x288 with 1 Axes>"
      ]
     },
     "metadata": {
      "needs_background": "light"
     },
     "output_type": "display_data"
    },
    {
     "name": "stdout",
     "output_type": "stream",
     "text": [
      "This is a simple representation of your position:\n",
      "\n",
      "[[1 0 1 1 1 1 1 1]\n",
      " [1 0 0 0 0 1 1 1]\n",
      " [1 1 1 1 0 1 1 1]\n",
      " [1 1 1 1 0 1 1 1]\n",
      " [1 1 1 1 0 0 0 1]\n",
      " [0 2 0 1 1 1 0 1]\n",
      " [1 1 0 0 0 0 0 1]\n",
      " [1 1 1 1 1 1 1 1]]\n",
      "\n",
      "\n",
      "--------NEW MOVEMENT--------\n",
      "Insert gates you want to apply (Ex: H-X-H-R)\n",
      "q0--\n",
      "q1--\n",
      "           ░ ┌─┐   \n",
      "q_0: ─|0>──░─┤M├───\n",
      "           ░ └╥┘┌─┐\n",
      "q_1: ─|0>──░──╫─┤M├\n",
      "           ░  ║ └╥┘\n",
      "c_0: ═════════╩══╬═\n",
      "                 ║ \n",
      "c_1: ════════════╩═\n",
      "                   \n",
      "Tunneling failed... Try again\n"
     ]
    },
    {
     "data": {
      "image/png": "[encoded data removed]",
      "text/plain": [
       "<Figure size 432x288 with 1 Axes>"
      ]
     },
     "metadata": {
      "needs_background": "light"
     },
     "output_type": "display_data"
    },
    {
     "name": "stdout",
     "output_type": "stream",
     "text": [
      "This is a simple representation of your position:\n",
      "\n",
      "[[1 0 1 1 1 1 1 1]\n",
      " [1 0 0 0 0 1 1 1]\n",
      " [1 1 1 1 0 1 1 1]\n",
      " [1 1 1 1 0 1 1 1]\n",
      " [1 1 1 1 0 0 0 1]\n",
      " [0 2 0 1 1 1 0 1]\n",
      " [1 1 0 0 0 0 0 1]\n",
      " [1 1 1 1 1 1 1 1]]\n",
      "\n",
      "\n",
      "--------NEW MOVEMENT--------\n",
      "Insert gates you want to apply (Ex: H-X-H-R)\n",
      "q0--\n",
      "q1--\n",
      "           ░ ┌─┐   \n",
      "q_0: ─|0>──░─┤M├───\n",
      "           ░ └╥┘┌─┐\n",
      "q_1: ─|0>──░──╫─┤M├\n",
      "           ░  ║ └╥┘\n",
      "c_0: ═════════╩══╬═\n",
      "                 ║ \n",
      "c_1: ════════════╩═\n",
      "                   \n",
      "Tunneling failed... Try again\n"
     ]
    },
    {
     "data": {
      "image/png": "[encoded data removed]",
      "text/plain": [
       "<Figure size 432x288 with 1 Axes>"
      ]
     },
     "metadata": {
      "needs_background": "light"
     },
     "output_type": "display_data"
    },
    {
     "name": "stdout",
     "output_type": "stream",
     "text": [
      "This is a simple representation of your position:\n",
      "\n",
      "[[1 0 1 1 1 1 1 1]\n",
      " [1 0 0 0 0 1 1 1]\n",
      " [1 1 1 1 0 1 1 1]\n",
      " [1 1 1 1 0 1 1 1]\n",
      " [1 1 1 1 0 0 0 1]\n",
      " [0 2 0 1 1 1 0 1]\n",
      " [1 1 0 0 0 0 0 1]\n",
      " [1 1 1 1 1 1 1 1]]\n",
      "\n",
      "\n",
      "--------NEW MOVEMENT--------\n",
      "Insert gates you want to apply (Ex: H-X-H-R)\n",
      "q0--\n",
      "q1--\n",
      "           ░ ┌─┐   \n",
      "q_0: ─|0>──░─┤M├───\n",
      "           ░ └╥┘┌─┐\n",
      "q_1: ─|0>──░──╫─┤M├\n",
      "           ░  ║ └╥┘\n",
      "c_0: ═════════╩══╬═\n",
      "                 ║ \n",
      "c_1: ════════════╩═\n",
      "                   \n",
      "Tunneling failed... Try again\n"
     ]
    },
    {
     "data": {
      "image/png": "[encoded data removed]",
      "text/plain": [
       "<Figure size 432x288 with 1 Axes>"
      ]
     },
     "metadata": {
      "needs_background": "light"
     },
     "output_type": "display_data"
    },
    {
     "name": "stdout",
     "output_type": "stream",
     "text": [
      "This is a simple representation of your position:\n",
      "\n",
      "[[1 0 1 1 1 1 1 1]\n",
      " [1 0 0 0 0 1 1 1]\n",
      " [1 1 1 1 0 1 1 1]\n",
      " [1 1 1 1 0 1 1 1]\n",
      " [1 1 1 1 0 0 0 1]\n",
      " [0 2 0 1 1 1 0 1]\n",
      " [1 1 0 0 0 0 0 1]\n",
      " [1 1 1 1 1 1 1 1]]\n",
      "\n",
      "\n",
      "--------NEW MOVEMENT--------\n",
      "Insert gates you want to apply (Ex: H-X-H-R)\n",
      "q0--\n",
      "q1--\n",
      "           ░ ┌─┐   \n",
      "q_0: ─|0>──░─┤M├───\n",
      "           ░ └╥┘┌─┐\n",
      "q_1: ─|0>──░──╫─┤M├\n",
      "           ░  ║ └╥┘\n",
      "c_0: ═════════╩══╬═\n",
      "                 ║ \n",
      "c_1: ════════════╩═\n",
      "                   \n",
      "Tunneling failed... Try again\n"
     ]
    },
    {
     "data": {
      "image/png": "[encoded data removed]",
      "text/plain": [
       "<Figure size 432x288 with 1 Axes>"
      ]
     },
     "metadata": {
      "needs_background": "light"
     },
     "output_type": "display_data"
    },
    {
     "name": "stdout",
     "output_type": "stream",
     "text": [
      "This is a simple representation of your position:\n",
      "\n",
      "[[1 0 1 1 1 1 1 1]\n",
      " [1 0 0 0 0 1 1 1]\n",
      " [1 1 1 1 0 1 1 1]\n",
      " [1 1 1 1 0 1 1 1]\n",
      " [1 1 1 1 0 0 0 1]\n",
      " [0 2 0 1 1 1 0 1]\n",
      " [1 1 0 0 0 0 0 1]\n",
      " [1 1 1 1 1 1 1 1]]\n",
      "\n",
      "\n",
      "--------NEW MOVEMENT--------\n",
      "Insert gates you want to apply (Ex: H-X-H-R)\n",
      "q0--\n",
      "q1--\n",
      "           ░ ┌─┐   \n",
      "q_0: ─|0>──░─┤M├───\n",
      "           ░ └╥┘┌─┐\n",
      "q_1: ─|0>──░──╫─┤M├\n",
      "           ░  ║ └╥┘\n",
      "c_0: ═════════╩══╬═\n",
      "                 ║ \n",
      "c_1: ════════════╩═\n",
      "                   \n",
      "Tunneling failed... Try again\n"
     ]
    },
    {
     "data": {
      "image/png": "[encoded data removed]",
      "text/plain": [
       "<Figure size 432x288 with 1 Axes>"
      ]
     },
     "metadata": {
      "needs_background": "light"
     },
     "output_type": "display_data"
    },
    {
     "name": "stdout",
     "output_type": "stream",
     "text": [
      "This is a simple representation of your position:\n",
      "\n",
      "[[1 0 1 1 1 1 1 1]\n",
      " [1 0 0 0 0 1 1 1]\n",
      " [1 1 1 1 0 1 1 1]\n",
      " [1 1 1 1 0 1 1 1]\n",
      " [1 1 1 1 0 0 0 1]\n",
      " [0 2 0 1 1 1 0 1]\n",
      " [1 1 0 0 0 0 0 1]\n",
      " [1 1 1 1 1 1 1 1]]\n",
      "\n",
      "\n",
      "--------NEW MOVEMENT--------\n",
      "Insert gates you want to apply (Ex: H-X-H-R)\n",
      "q0--\n",
      "q1--\n",
      "           ░ ┌─┐   \n",
      "q_0: ─|0>──░─┤M├───\n",
      "           ░ └╥┘┌─┐\n",
      "q_1: ─|0>──░──╫─┤M├\n",
      "           ░  ║ └╥┘\n",
      "c_0: ═════════╩══╬═\n",
      "                 ║ \n",
      "c_1: ════════════╩═\n",
      "                   \n",
      "Tunneling failed... Try again\n"
     ]
    },
    {
     "data": {
      "image/png": "[encoded data removed]",
      "text/plain": [
       "<Figure size 432x288 with 1 Axes>"
      ]
     },
     "metadata": {
      "needs_background": "light"
     },
     "output_type": "display_data"
    },
    {
     "name": "stdout",
     "output_type": "stream",
     "text": [
      "This is a simple representation of your position:\n",
      "\n",
      "[[1 0 1 1 1 1 1 1]\n",
      " [1 0 0 0 0 1 1 1]\n",
      " [1 1 1 1 0 1 1 1]\n",
      " [1 1 1 1 0 1 1 1]\n",
      " [1 1 1 1 0 0 0 1]\n",
      " [0 2 0 1 1 1 0 1]\n",
      " [1 1 0 0 0 0 0 1]\n",
      " [1 1 1 1 1 1 1 1]]\n",
      "\n",
      "\n",
      "--------NEW MOVEMENT--------\n",
      "Insert gates you want to apply (Ex: H-X-H-R)\n",
      "q0--\n",
      "q1--\n",
      "           ░ ┌─┐   \n",
      "q_0: ─|0>──░─┤M├───\n",
      "           ░ └╥┘┌─┐\n",
      "q_1: ─|0>──░──╫─┤M├\n",
      "           ░  ║ └╥┘\n",
      "c_0: ═════════╩══╬═\n",
      "                 ║ \n",
      "c_1: ════════════╩═\n",
      "                   \n",
      "Tunneling failed... Try again\n"
     ]
    },
    {
     "data": {
      "image/png": "[encoded data removed]",
      "text/plain": [
       "<Figure size 432x288 with 1 Axes>"
      ]
     },
     "metadata": {
      "needs_background": "light"
     },
     "output_type": "display_data"
    },
    {
     "name": "stdout",
     "output_type": "stream",
     "text": [
      "This is a simple representation of your position:\n",
      "\n",
      "[[1 0 1 1 1 1 1 1]\n",
      " [1 0 0 0 0 1 1 1]\n",
      " [1 1 1 1 0 1 1 1]\n",
      " [1 1 1 1 0 1 1 1]\n",
      " [1 1 1 1 0 0 0 1]\n",
      " [0 2 0 1 1 1 0 1]\n",
      " [1 1 0 0 0 0 0 1]\n",
      " [1 1 1 1 1 1 1 1]]\n",
      "\n",
      "\n",
      "--------NEW MOVEMENT--------\n",
      "Insert gates you want to apply (Ex: H-X-H-R)\n",
      "q0--\n",
      "q1--\n",
      "           ░ ┌─┐   \n",
      "q_0: ─|0>──░─┤M├───\n",
      "           ░ └╥┘┌─┐\n",
      "q_1: ─|0>──░──╫─┤M├\n",
      "           ░  ║ └╥┘\n",
      "c_0: ═════════╩══╬═\n",
      "                 ║ \n",
      "c_1: ════════════╩═\n",
      "                   \n",
      "Tunneling failed... Try again\n"
     ]
    },
    {
     "data": {
      "image/png": "[encoded data removed]",
      "text/plain": [
       "<Figure size 432x288 with 1 Axes>"
      ]
     },
     "metadata": {
      "needs_background": "light"
     },
     "output_type": "display_data"
    },
    {
     "name": "stdout",
     "output_type": "stream",
     "text": [
      "This is a simple representation of your position:\n",
      "\n",
      "[[1 0 1 1 1 1 1 1]\n",
      " [1 0 0 0 0 1 1 1]\n",
      " [1 1 1 1 0 1 1 1]\n",
      " [1 1 1 1 0 1 1 1]\n",
      " [1 1 1 1 0 0 0 1]\n",
      " [0 2 0 1 1 1 0 1]\n",
      " [1 1 0 0 0 0 0 1]\n",
      " [1 1 1 1 1 1 1 1]]\n",
      "\n",
      "\n",
      "--------NEW MOVEMENT--------\n",
      "Insert gates you want to apply (Ex: H-X-H-R)\n",
      "q0--\n",
      "q1--\n",
      "           ░ ┌─┐   \n",
      "q_0: ─|0>──░─┤M├───\n",
      "           ░ └╥┘┌─┐\n",
      "q_1: ─|0>──░──╫─┤M├\n",
      "           ░  ║ └╥┘\n",
      "c_0: ═════════╩══╬═\n",
      "                 ║ \n",
      "c_1: ════════════╩═\n",
      "                   \n",
      "Tunneling failed... Try again\n"
     ]
    },
    {
     "data": {
      "image/png": "[encoded data removed]",
      "text/plain": [
       "<Figure size 432x288 with 1 Axes>"
      ]
     },
     "metadata": {
      "needs_background": "light"
     },
     "output_type": "display_data"
    },
    {
     "name": "stdout",
     "output_type": "stream",
     "text": [
      "This is a simple representation of your position:\n",
      "\n",
      "[[1 0 1 1 1 1 1 1]\n",
      " [1 0 0 0 0 1 1 1]\n",
      " [1 1 1 1 0 1 1 1]\n",
      " [1 1 1 1 0 1 1 1]\n",
      " [1 1 1 1 0 0 0 1]\n",
      " [0 2 0 1 1 1 0 1]\n",
      " [1 1 0 0 0 0 0 1]\n",
      " [1 1 1 1 1 1 1 1]]\n",
      "\n",
      "\n",
      "--------NEW MOVEMENT--------\n",
      "Insert gates you want to apply (Ex: H-X-H-R)\n",
      "q0--\n",
      "q1--\n",
      "           ░ ┌─┐   \n",
      "q_0: ─|0>──░─┤M├───\n",
      "           ░ └╥┘┌─┐\n",
      "q_1: ─|0>──░──╫─┤M├\n",
      "           ░  ║ └╥┘\n",
      "c_0: ═════════╩══╬═\n",
      "                 ║ \n",
      "c_1: ════════════╩═\n",
      "                   \n",
      "Tunneling failed... Try again\n"
     ]
    },
    {
     "data": {
      "image/png": "[encoded data removed]",
      "text/plain": [
       "<Figure size 432x288 with 1 Axes>"
      ]
     },
     "metadata": {
      "needs_background": "light"
     },
     "output_type": "display_data"
    },
    {
     "name": "stdout",
     "output_type": "stream",
     "text": [
      "This is a simple representation of your position:\n",
      "\n",
      "[[1 0 1 1 1 1 1 1]\n",
      " [1 0 0 0 0 1 1 1]\n",
      " [1 1 1 1 0 1 1 1]\n",
      " [1 1 1 1 0 1 1 1]\n",
      " [1 1 1 1 0 0 0 1]\n",
      " [0 2 0 1 1 1 0 1]\n",
      " [1 1 0 0 0 0 0 1]\n",
      " [1 1 1 1 1 1 1 1]]\n",
      "\n",
      "\n",
      "--------NEW MOVEMENT--------\n",
      "Insert gates you want to apply (Ex: H-X-H-R)\n",
      "q0--\n",
      "q1--\n",
      "           ░ ┌─┐   \n",
      "q_0: ─|0>──░─┤M├───\n",
      "           ░ └╥┘┌─┐\n",
      "q_1: ─|0>──░──╫─┤M├\n",
      "           ░  ║ └╥┘\n",
      "c_0: ═════════╩══╬═\n",
      "                 ║ \n",
      "c_1: ════════════╩═\n",
      "                   \n",
      "Tunneling failed... Try again\n"
     ]
    },
    {
     "data": {
      "image/png": "[encoded data removed]",
      "text/plain": [
       "<Figure size 432x288 with 1 Axes>"
      ]
     },
     "metadata": {
      "needs_background": "light"
     },
     "output_type": "display_data"
    },
    {
     "name": "stdout",
     "output_type": "stream",
     "text": [
      "This is a simple representation of your position:\n",
      "\n",
      "[[1 0 1 1 1 1 1 1]\n",
      " [1 0 0 0 0 1 1 1]\n",
      " [1 1 1 1 0 1 1 1]\n",
      " [1 1 1 1 0 1 1 1]\n",
      " [1 1 1 1 0 0 0 1]\n",
      " [0 2 0 1 1 1 0 1]\n",
      " [1 1 0 0 0 0 0 1]\n",
      " [1 1 1 1 1 1 1 1]]\n",
      "\n",
      "\n",
      "--------NEW MOVEMENT--------\n",
      "Insert gates you want to apply (Ex: H-X-H-R)\n",
      "q0--\n",
      "q1--\n",
      "           ░ ┌─┐   \n",
      "q_0: ─|0>──░─┤M├───\n",
      "           ░ └╥┘┌─┐\n",
      "q_1: ─|0>──░──╫─┤M├\n",
      "           ░  ║ └╥┘\n",
      "c_0: ═════════╩══╬═\n",
      "                 ║ \n",
      "c_1: ════════════╩═\n",
      "                   \n",
      "Tunneling failed... Try again\n"
     ]
    },
    {
     "data": {
      "image/png": "[encoded data removed]",
      "text/plain": [
       "<Figure size 432x288 with 1 Axes>"
      ]
     },
     "metadata": {
      "needs_background": "light"
     },
     "output_type": "display_data"
    },
    {
     "name": "stdout",
     "output_type": "stream",
     "text": [
      "This is a simple representation of your position:\n",
      "\n",
      "[[1 0 1 1 1 1 1 1]\n",
      " [1 0 0 0 0 1 1 1]\n",
      " [1 1 1 1 0 1 1 1]\n",
      " [1 1 1 1 0 1 1 1]\n",
      " [1 1 1 1 0 0 0 1]\n",
      " [0 2 0 1 1 1 0 1]\n",
      " [1 1 0 0 0 0 0 1]\n",
      " [1 1 1 1 1 1 1 1]]\n",
      "\n",
      "\n",
      "--------NEW MOVEMENT--------\n",
      "Insert gates you want to apply (Ex: H-X-H-R)\n",
      "q0--\n",
      "q1--\n",
      "           ░ ┌─┐   \n",
      "q_0: ─|0>──░─┤M├───\n",
      "           ░ └╥┘┌─┐\n",
      "q_1: ─|0>──░──╫─┤M├\n",
      "           ░  ║ └╥┘\n",
      "c_0: ═════════╩══╬═\n",
      "                 ║ \n",
      "c_1: ════════════╩═\n",
      "                   \n",
      "Tunneling failed... Try again\n"
     ]
    },
    {
     "data": {
      "image/png": "[encoded data removed]",
      "text/plain": [
       "<Figure size 432x288 with 1 Axes>"
      ]
     },
     "metadata": {
      "needs_background": "light"
     },
     "output_type": "display_data"
    },
    {
     "name": "stdout",
     "output_type": "stream",
     "text": [
      "This is a simple representation of your position:\n",
      "\n",
      "[[1 0 1 1 1 1 1 1]\n",
      " [1 0 0 0 0 1 1 1]\n",
      " [1 1 1 1 0 1 1 1]\n",
      " [1 1 1 1 0 1 1 1]\n",
      " [1 1 1 1 0 0 0 1]\n",
      " [0 2 0 1 1 1 0 1]\n",
      " [1 1 0 0 0 0 0 1]\n",
      " [1 1 1 1 1 1 1 1]]\n",
      "\n",
      "\n",
      "--------NEW MOVEMENT--------\n",
      "Insert gates you want to apply (Ex: H-X-H-R)\n",
      "q0--\n",
      "q1--\n",
      "           ░ ┌─┐   \n",
      "q_0: ─|0>──░─┤M├───\n",
      "           ░ └╥┘┌─┐\n",
      "q_1: ─|0>──░──╫─┤M├\n",
      "           ░  ║ └╥┘\n",
      "c_0: ═════════╩══╬═\n",
      "                 ║ \n",
      "c_1: ════════════╩═\n",
      "                   \n",
      "Tunneling failed... Try again\n"
     ]
    },
    {
     "data": {
      "image/png": "[encoded data removed]",
      "text/plain": [
       "<Figure size 432x288 with 1 Axes>"
      ]
     },
     "metadata": {
      "needs_background": "light"
     },
     "output_type": "display_data"
    },
    {
     "name": "stdout",
     "output_type": "stream",
     "text": [
      "This is a simple representation of your position:\n",
      "\n",
      "[[1 0 1 1 1 1 1 1]\n",
      " [1 0 0 0 0 1 1 1]\n",
      " [1 1 1 1 0 1 1 1]\n",
      " [1 1 1 1 0 1 1 1]\n",
      " [1 1 1 1 0 0 0 1]\n",
      " [0 2 0 1 1 1 0 1]\n",
      " [1 1 0 0 0 0 0 1]\n",
      " [1 1 1 1 1 1 1 1]]\n",
      "\n",
      "\n",
      "--------NEW MOVEMENT--------\n",
      "Insert gates you want to apply (Ex: H-X-H-R)\n",
      "q0--\n",
      "q1--\n",
      "           ░ ┌─┐   \n",
      "q_0: ─|0>──░─┤M├───\n",
      "           ░ └╥┘┌─┐\n",
      "q_1: ─|0>──░──╫─┤M├\n",
      "           ░  ║ └╥┘\n",
      "c_0: ═════════╩══╬═\n",
      "                 ║ \n",
      "c_1: ════════════╩═\n",
      "                   \n",
      "Tunneling failed... Try again\n"
     ]
    },
    {
     "data": {
      "image/png": "[encoded data removed]",
      "text/plain": [
       "<Figure size 432x288 with 1 Axes>"
      ]
     },
     "metadata": {
      "needs_background": "light"
     },
     "output_type": "display_data"
    },
    {
     "name": "stdout",
     "output_type": "stream",
     "text": [
      "This is a simple representation of your position:\n",
      "\n",
      "[[1 0 1 1 1 1 1 1]\n",
      " [1 0 0 0 0 1 1 1]\n",
      " [1 1 1 1 0 1 1 1]\n",
      " [1 1 1 1 0 1 1 1]\n",
      " [1 1 1 1 0 0 0 1]\n",
      " [0 2 0 1 1 1 0 1]\n",
      " [1 1 0 0 0 0 0 1]\n",
      " [1 1 1 1 1 1 1 1]]\n",
      "\n",
      "\n",
      "--------NEW MOVEMENT--------\n",
      "Insert gates you want to apply (Ex: H-X-H-R)\n",
      "q0--\n",
      "q1--\n",
      "           ░ ┌─┐   \n",
      "q_0: ─|0>──░─┤M├───\n",
      "           ░ └╥┘┌─┐\n",
      "q_1: ─|0>──░──╫─┤M├\n",
      "           ░  ║ └╥┘\n",
      "c_0: ═════════╩══╬═\n",
      "                 ║ \n",
      "c_1: ════════════╩═\n",
      "                   \n",
      "Tunneling failed... Try again\n"
     ]
    },
    {
     "data": {
      "image/png": "[encoded data removed]",
      "text/plain": [
       "<Figure size 432x288 with 1 Axes>"
      ]
     },
     "metadata": {
      "needs_background": "light"
     },
     "output_type": "display_data"
    },
    {
     "name": "stdout",
     "output_type": "stream",
     "text": [
      "This is a simple representation of your position:\n",
      "\n",
      "[[1 0 1 1 1 1 1 1]\n",
      " [1 0 0 0 0 1 1 1]\n",
      " [1 1 1 1 0 1 1 1]\n",
      " [1 1 1 1 0 1 1 1]\n",
      " [1 1 1 1 0 0 0 1]\n",
      " [0 2 0 1 1 1 0 1]\n",
      " [1 1 0 0 0 0 0 1]\n",
      " [1 1 1 1 1 1 1 1]]\n",
      "\n",
      "\n",
      "--------NEW MOVEMENT--------\n",
      "Insert gates you want to apply (Ex: H-X-H-R)\n",
      "q0--\n",
      "q1--\n",
      "           ░ ┌─┐   \n",
      "q_0: ─|0>──░─┤M├───\n",
      "           ░ └╥┘┌─┐\n",
      "q_1: ─|0>──░──╫─┤M├\n",
      "           ░  ║ └╥┘\n",
      "c_0: ═════════╩══╬═\n",
      "                 ║ \n",
      "c_1: ════════════╩═\n",
      "                   \n",
      "Tunneling failed... Try again\n"
     ]
    },
    {
     "data": {
      "image/png": "[encoded data removed]",
      "text/plain": [
       "<Figure size 432x288 with 1 Axes>"
      ]
     },
     "metadata": {
      "needs_background": "light"
     },
     "output_type": "display_data"
    },
    {
     "name": "stdout",
     "output_type": "stream",
     "text": [
      "This is a simple representation of your position:\n",
      "\n",
      "[[1 0 1 1 1 1 1 1]\n",
      " [1 0 0 0 0 1 1 1]\n",
      " [1 1 1 1 0 1 1 1]\n",
      " [1 1 1 1 0 1 1 1]\n",
      " [1 1 1 1 0 0 0 1]\n",
      " [0 2 0 1 1 1 0 1]\n",
      " [1 1 0 0 0 0 0 1]\n",
      " [1 1 1 1 1 1 1 1]]\n",
      "\n",
      "\n",
      "--------NEW MOVEMENT--------\n",
      "Insert gates you want to apply (Ex: H-X-H-R)\n",
      "q0--\n",
      "q1--\n",
      "           ░ ┌─┐   \n",
      "q_0: ─|0>──░─┤M├───\n",
      "           ░ └╥┘┌─┐\n",
      "q_1: ─|0>──░──╫─┤M├\n",
      "           ░  ║ └╥┘\n",
      "c_0: ═════════╩══╬═\n",
      "                 ║ \n",
      "c_1: ════════════╩═\n",
      "                   \n",
      "Tunneling failed... Try again\n"
     ]
    },
    {
     "data": {
      "image/png": "[encoded data removed]",
      "text/plain": [
       "<Figure size 432x288 with 1 Axes>"
      ]
     },
     "metadata": {
      "needs_background": "light"
     },
     "output_type": "display_data"
    },
    {
     "name": "stdout",
     "output_type": "stream",
     "text": [
      "This is a simple representation of your position:\n",
      "\n",
      "[[1 0 1 1 1 1 1 1]\n",
      " [1 0 0 0 0 1 1 1]\n",
      " [1 1 1 1 0 1 1 1]\n",
      " [1 1 1 1 0 1 1 1]\n",
      " [1 1 1 1 0 0 0 1]\n",
      " [0 2 0 1 1 1 0 1]\n",
      " [1 1 0 0 0 0 0 1]\n",
      " [1 1 1 1 1 1 1 1]]\n",
      "\n",
      "\n",
      "--------NEW MOVEMENT--------\n",
      "Insert gates you want to apply (Ex: H-X-H-R)\n",
      "q0--x\n",
      "q1--x\n",
      "           ░ ┌─┐   \n",
      "q_0: ─|0>──░─┤M├───\n",
      "           ░ └╥┘┌─┐\n",
      "q_1: ─|0>──░──╫─┤M├\n",
      "           ░  ║ └╥┘\n",
      "c_0: ═════════╩══╬═\n",
      "                 ║ \n",
      "c_1: ════════════╩═\n",
      "                   \n",
      "Tunneling failed... Try again\n"
     ]
    },
    {
     "data": {
      "image/png": "[encoded data removed]",
      "text/plain": [
       "<Figure size 432x288 with 1 Axes>"
      ]
     },
     "metadata": {
      "needs_background": "light"
     },
     "output_type": "display_data"
    },
    {
     "name": "stdout",
     "output_type": "stream",
     "text": [
      "This is a simple representation of your position:\n",
      "\n",
      "[[1 0 1 1 1 1 1 1]\n",
      " [1 0 0 0 0 1 1 1]\n",
      " [1 1 1 1 0 1 1 1]\n",
      " [1 1 1 1 0 1 1 1]\n",
      " [1 1 1 1 0 0 0 1]\n",
      " [0 2 0 1 1 1 0 1]\n",
      " [1 1 0 0 0 0 0 1]\n",
      " [1 1 1 1 1 1 1 1]]\n",
      "\n",
      "\n",
      "--------NEW MOVEMENT--------\n",
      "Insert gates you want to apply (Ex: H-X-H-R)\n",
      "q0--X\n",
      "q1--X\n",
      "          ┌───┐ ░ ┌─┐   \n",
      "q_0: ─|0>─┤ X ├─░─┤M├───\n",
      "          ├───┤ ░ └╥┘┌─┐\n",
      "q_1: ─|0>─┤ X ├─░──╫─┤M├\n",
      "          └───┘ ░  ║ └╥┘\n",
      "c_0: ══════════════╩══╬═\n",
      "                      ║ \n",
      "c_1: ═════════════════╩═\n",
      "                        \n"
     ]
    },
    {
     "data": {
      "image/png": "[encoded data removed]",
      "text/plain": [
       "<Figure size 432x288 with 1 Axes>"
      ]
     },
     "metadata": {
      "needs_background": "light"
     },
     "output_type": "display_data"
    },
    {
     "name": "stdout",
     "output_type": "stream",
     "text": [
      "This is a simple representation of your position:\n",
      "\n",
      "[[1 0 1 1 1 1 1 1]\n",
      " [1 0 0 0 0 1 1 1]\n",
      " [1 1 1 1 0 1 1 1]\n",
      " [1 1 1 1 0 1 1 1]\n",
      " [1 1 1 1 0 0 0 1]\n",
      " [2 0 0 1 1 1 0 1]\n",
      " [1 1 0 0 0 0 0 1]\n",
      " [1 1 1 1 1 1 1 1]]\n",
      "\n",
      "\n",
      "Congratulations!! You win!! \n",
      "NEXT LEVEL\n",
      "\n",
      "\n",
      "Initial position:\n",
      "[[1 2 1 1 1 1 1 1]\n",
      " [1 0 0 0 0 1 1 1]\n",
      " [1 1 1 1 0 1 1 1]\n",
      " [1 1 1 1 0 1 1 1]\n",
      " [1 1 1 1 0 0 0 1]\n",
      " [0 0 0 1 1 1 0 1]\n",
      " [1 1 0 0 0 0 0 1]\n",
      " [1 1 1 1 1 1 1 1]]\n",
      "\n",
      "\n",
      "--------NEW MOVEMENT--------\n",
      "Insert gates you want to apply (Ex: H-X-H-R)\n"
     ]
    }
   ],
   "source": [
    "level=0\n",
    "n = 0\n",
    "player=Player()\n",
    "\n",
    "\n",
    "\n",
    "\n",
    "\n",
    "\n",
    "\n",
    "\n",
    "\n",
    "\n",
    "\n",
    "\n",
    "\n",
    "\n",
    "\n",
    "\n",
    "\n",
    "\n",
    "\n",
    "\n",
    "\n",
    "\n",
    "\n",
    "\n",
    "\n",
    "\n",
    "\n",
    "\n",
    "\n",
    "\n",
    "\n",
    "pen=Pen()\n",
    "for level in range(3):\n",
    "    A = UserInteraction()\n",
    "    print('Initial position:\\n{}'.format(A.grid))\n",
    "    while A.grid[5,0] != 2:\n",
    "        coord = [-100+24,100]\n",
    "        pos = [0,1]\n",
    "        M = Movimiento(pos,coord)\n",
    "        \n",
    "        if n==0:\n",
    "            #añado el nivel a la lista\n",
    "            niveles=[]\n",
    "            niveles.append(A.grid)\n",
    "            M.iniciar_lab(niveles[0],A.grid)\n",
    "            n += 1\n",
    "            \n",
    "        A.apply_gates()\n",
    "        matrix = A.movement()[0]\n",
    "        print('This is a simple representation of your position:\\n')\n",
    "        print(matrix)\n",
    "        M.moviment(matrix) \n",
    "    if level==0:\n",
    "        n=0\n",
    "        print('\\n')\n",
    "        print('Congratulations!! You win!! ')\n",
    "        print('NEXT LEVEL')\n",
    "        print('\\n')\n",
    "    elif level==1:\n",
    "        n=0\n",
    "        print('\\n')\n",
    "        print('Congratulations!! You win!! ')\n",
    "        print('NEXT LEVEL')\n",
    "        print('\\n')\n",
    "    #level=level+1\n",
    "    \n",
    "print(\"Congratulations!!  You win!! \")\n",
    "print('END OF THE GAME')"
   ]
  }
 ],
 "metadata": {
  "kernelspec": {
   "display_name": "Python 3",
   "language": "python",
   "name": "python3"
  },
  "language_info": {
   "codemirror_mode": {
    "name": "ipython",
    "version": 3
   },
   "file_extension": ".py",
   "mimetype": "text/x-python",
   "name": "python",
   "nbconvert_exporter": "python",
   "pygments_lexer": "ipython3",
   "version": "3.7.6"
  }
 },
 "nbformat": 4,
 "nbformat_minor": 2
}
