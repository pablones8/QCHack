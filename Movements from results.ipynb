{
 "cells": [
  {
   "cell_type": "code",
   "execution_count": 2,
   "metadata": {},
   "outputs": [
    {
     "data": {
      "text/plain": [
       "<AccountProvider for IBMQ(hub='ibm-q', group='open', project='main')>"
      ]
     },
     "execution_count": 2,
     "metadata": {},
     "output_type": "execute_result"
    }
   ],
   "source": [
    "from qiskit import *\n",
    "import numpy as np\n",
    "IBMQ.load_account()\n"
   ]
  },
  {
   "cell_type": "code",
   "execution_count": 12,
   "metadata": {},
   "outputs": [
    {
     "name": "stdout",
     "output_type": "stream",
     "text": [
      "[[2 1 1 1 1]\n",
      " [0 1 1 1 1]\n",
      " [0 0 0 1 1]\n",
      " [1 1 0 0 0]]\n"
     ]
    }
   ],
   "source": [
    "#Initial position in grid\n",
    "i=0\n",
    "j=0\n",
    "\n",
    "#Creates grid\n",
    "grid=np.matrix([[2,,1,1,1],\n",
    "                [0,1,1,1,1],\n",
    "                [0,0,0,1,1],\n",
    "                [1,1,0,0,0]])\n",
    "    \n",
    "print(grid)\n"
   ]
  },
  {
   "cell_type": "code",
   "execution_count": 71,
   "metadata": {},
   "outputs": [
    {
     "data": {
      "image/png": "[encoded data removed]",
      "text/plain": [
       "<Figure size 387.452x204.68 with 1 Axes>"
      ]
     },
     "execution_count": 71,
     "metadata": {},
     "output_type": "execute_result"
    }
   ],
   "source": [
    "#Quantum circuit\n",
    "cr=ClassicalRegister(2,'c')\n",
    "qr=QuantumRegister(2,'q')\n",
    "\n",
    "circuit= QuantumCircuit(qr, cr)\n",
    "\n",
    "circuit.rx(np.pi/2,0)\n",
    "circuit.barrier(0)\n",
    "circuit.barrier(1)\n",
    "\n",
    "circuit.rx(np.pi/2,0)\n",
    "circuit.x(0)\n",
    "circuit.x(1)\n",
    "\n",
    "circuit.measure(qr,cr)\n",
    "\n",
    "circuit.draw(output='mpl')"
   ]
  },
  {
   "cell_type": "code",
   "execution_count": 72,
   "metadata": {},
   "outputs": [],
   "source": [
    "simulator=BasicAer.get_backend('qasm_simulator')"
   ]
  },
  {
   "cell_type": "code",
   "execution_count": 73,
   "metadata": {},
   "outputs": [
    {
     "name": "stdout",
     "output_type": "stream",
     "text": [
      "\n",
      "Total count: {'10': 1000}\n"
     ]
    },
    {
     "data": {
      "text/html": [
       "<pre style=\"word-wrap: normal;white-space: pre;background: #fff0;line-height: 1.1;font-family: &quot;Courier New&quot;,Courier,monospace\">     ┌─────────┐  ░  ┌─────────┐┌───┐┌─┐\n",
       "q_0: ┤ RX(π/2) ├──░──┤ RX(π/2) ├┤ X ├┤M├\n",
       "     └────░────┘┌───┐└───┬─┬───┘└───┘└╥┘\n",
       "q_1: ─────░─────┤ X ├────┤M├──────────╫─\n",
       "          ░     └───┘    └╥┘          ║ \n",
       "c: 2/═════════════════════╩═══════════╩═\n",
       "                          1           0 </pre>"
      ],
      "text/plain": [
       "     ┌─────────┐  ░  ┌─────────┐┌───┐┌─┐\n",
       "q_0: ┤ RX(π/2) ├──░──┤ RX(π/2) ├┤ X ├┤M├\n",
       "     └────░────┘┌───┐└───┬─┬───┘└───┘└╥┘\n",
       "q_1: ─────░─────┤ X ├────┤M├──────────╫─\n",
       "          ░     └───┘    └╥┘          ║ \n",
       "c: 2/═════════════════════╩═══════════╩═\n",
       "                          1           0 "
      ]
     },
     "execution_count": 73,
     "metadata": {},
     "output_type": "execute_result"
    }
   ],
   "source": [
    "compiled_circuit = transpile(circuit, simulator)\n",
    "\n",
    "#initialize dictonary\n",
    "counts= {\n",
    "  \"00\": 0,\n",
    "  \"01\": 0,\n",
    "  \"10\": 0,\n",
    "  \"11\": 0\n",
    "}\n",
    "\n",
    "# Execute the circuit on the qasm simulator\n",
    "job = simulator.run(compiled_circuit, shots=1000)\n",
    "\n",
    "# Grab results from the job\n",
    "result = job.result()\n",
    "\n",
    "# Returns counts\n",
    "counts = result.get_counts(circuit)\n",
    "print(\"\\nTotal count:\",counts)\n",
    "\n",
    "# Draw the circuit\n",
    "circuit.draw()"
   ]
  },
  {
   "cell_type": "code",
   "execution_count": 75,
   "metadata": {},
   "outputs": [
    {
     "name": "stdout",
     "output_type": "stream",
     "text": [
      "[[0 1 1 1 1]\n",
      " [0 1 1 1 1]\n",
      " [0 0 2 1 1]\n",
      " [1 1 0 0 0]]\n"
     ]
    }
   ],
   "source": [
    "max_counts=900\n",
    "\n",
    "#Makes sure to get every state in the dictionary (even if it has 0 counts)\n",
    "counts['00']=counts.get('00', 0)\n",
    "counts['01']=counts.get('01', 0)\n",
    "counts['10']=counts.get('10', 0)\n",
    "counts['11']=counts.get('11', 0)\n",
    "\n",
    "#print(counts['00'])\n",
    "#print(counts['01'])\n",
    "#print(counts['10'])\n",
    "#print(counts['11'])\n",
    "\n",
    "# 00: DOWN\n",
    "if counts[\"00\"]>max_counts:\n",
    "    if grid[i+1,j]==0:\n",
    "        grid[i,j]=0\n",
    "        grid[(i+1),j]=2\n",
    "        i=i+1\n",
    "    else:\n",
    "        print('Impossible movement. Try again')\n",
    "\n",
    "#01: UP\n",
    "elif counts[\"01\"]>max_counts:\n",
    "    if grid[i-1,j]==0:\n",
    "        grid[i,j]=0\n",
    "        grid[i-1,j]=2\n",
    "        i=i-1\n",
    "    else:\n",
    "        print('Impossible movement. Try again')\n",
    "\n",
    "#10: RIGHT        \n",
    "elif counts[\"10\"]>max_counts:\n",
    "    if grid[i,j+1]==0:\n",
    "        grid[i,j]=0\n",
    "        grid[i,j+1]=2\n",
    "        j=j+1\n",
    "    else:\n",
    "        print('Impossible movement. Try again')\n",
    "\n",
    "#11: LEFT\n",
    "elif counts[\"11\"]>max_counts:\n",
    "    if grid[i,j-1]==0:\n",
    "        grid[i,j]=0\n",
    "        grid[i,j-1]=2\n",
    "        j=j-1\n",
    "    else:\n",
    "        print('Impossible movement. Try again')\n",
    "    \n",
    "print(grid)"
   ]
  },
  {
   "cell_type": "code",
   "execution_count": 85,
   "metadata": {},
   "outputs": [
    {
     "data": {
      "image/png": "[encoded data removed]",
      "text/plain": [
       "<Figure size 387.452x204.68 with 1 Axes>"
      ]
     },
     "execution_count": 85,
     "metadata": {},
     "output_type": "execute_result"
    }
   ],
   "source": [
    "#Quantum circuit\n",
    "cr=ClassicalRegister(2,'c')\n",
    "qr=QuantumRegister(2,'q')\n",
    "\n",
    "circuit= QuantumCircuit(qr, cr)\n",
    "\n",
    "circuit.rx(np.pi/2,0)\n",
    "circuit.barrier(0)\n",
    "circuit.barrier(1)\n",
    "\n",
    "circuit.rx(np.pi/2,0)\n",
    "circuit.x(0)\n",
    "circuit.x(1)\n",
    "\n",
    "circuit.measure(qr,cr)\n",
    "\n",
    "circuit.draw(output='mpl')"
   ]
  },
  {
   "cell_type": "code",
   "execution_count": 91,
   "metadata": {},
   "outputs": [
    {
     "name": "stdout",
     "output_type": "stream",
     "text": [
      "\n",
      "Total count: {'10': 1}\n"
     ]
    },
    {
     "data": {
      "text/html": [
       "<pre style=\"word-wrap: normal;white-space: pre;background: #fff0;line-height: 1.1;font-family: &quot;Courier New&quot;,Courier,monospace\">     ┌─────────┐  ░  ┌─────────┐┌───┐┌─┐\n",
       "q_0: ┤ RX(π/2) ├──░──┤ RX(π/2) ├┤ X ├┤M├\n",
       "     └────░────┘┌───┐└───┬─┬───┘└───┘└╥┘\n",
       "q_1: ─────░─────┤ X ├────┤M├──────────╫─\n",
       "          ░     └───┘    └╥┘          ║ \n",
       "c: 2/═════════════════════╩═══════════╩═\n",
       "                          1           0 </pre>"
      ],
      "text/plain": [
       "     ┌─────────┐  ░  ┌─────────┐┌───┐┌─┐\n",
       "q_0: ┤ RX(π/2) ├──░──┤ RX(π/2) ├┤ X ├┤M├\n",
       "     └────░────┘┌───┐└───┬─┬───┘└───┘└╥┘\n",
       "q_1: ─────░─────┤ X ├────┤M├──────────╫─\n",
       "          ░     └───┘    └╥┘          ║ \n",
       "c: 2/═════════════════════╩═══════════╩═\n",
       "                          1           0 "
      ]
     },
     "execution_count": 91,
     "metadata": {},
     "output_type": "execute_result"
    }
   ],
   "source": [
    "compiled_circuit = transpile(circuit, simulator)\n",
    "\n",
    "#initialize dictonary\n",
    "counts= {\n",
    "  \"00\": 0,\n",
    "  \"01\": 0,\n",
    "  \"10\": 0,\n",
    "  \"11\": 0\n",
    "}\n",
    "\n",
    "#initialize dictonary\n",
    "counts_total= {\n",
    "  \"00\": 0,\n",
    "  \"01\": 0,\n",
    "  \"10\": 0,\n",
    "  \"11\": 0\n",
    "}\n",
    "\n",
    "\n",
    "# Execute the circuit on the qasm simulator\n",
    "job = simulator.run(compiled_circuit, shots=1)\n",
    "job_total = simulator.run(compiled_circuit, shots=1000)\n",
    "\n",
    "# Grab results from the job\n",
    "result = job.result()\n",
    "result_total = job_total.result()\n",
    "\n",
    "# Returns counts\n",
    "counts = result.get_counts(circuit)\n",
    "counts_total=result_total.get_counts(circuit)\n",
    "\n",
    "print(\"\\nTotal count:\",counts)\n",
    "\n",
    "# Draw the circuit\n",
    "circuit.draw()"
   ]
  },
  {
   "cell_type": "code",
   "execution_count": 92,
   "metadata": {},
   "outputs": [
    {
     "name": "stdout",
     "output_type": "stream",
     "text": [
      "Impossible movement. Try again\n",
      "[[0 1 1 1 1]\n",
      " [0 1 1 1 1]\n",
      " [0 0 2 1 1]\n",
      " [1 1 0 0 0]]\n"
     ]
    }
   ],
   "source": [
    "max_counts=900\n",
    "\n",
    "#Makes sure to get every state in the dictionary (even if it has 0 counts)\n",
    "#For the histogram\n",
    "counts_total['00']=counts_total.get('00', 0)\n",
    "counts_total['01']=counts_total.get('01', 0)\n",
    "counts_total['10']=counts_total.get('10', 0)\n",
    "counts_total['11']=counts_total.get('11', 0)\n",
    "\n",
    "#Makes sure to get every state in the dictionary (even if it has 0 counts)\n",
    "counts['00']=counts.get('00', 0)\n",
    "counts['01']=counts.get('01', 0)\n",
    "counts['10']=counts.get('10', 0)\n",
    "counts['11']=counts.get('11', 0)\n",
    "\n",
    "#print(counts['00'])\n",
    "#print(counts['01'])\n",
    "#print(counts['10'])\n",
    "#print(counts['11'])\n",
    "\n",
    "# 00: DOWN\n",
    "if counts[\"00\"]==1:\n",
    "    if grid[i+1,j]==0:\n",
    "        grid[i,j]=0\n",
    "        grid[(i+1),j]=2\n",
    "        i=i+1\n",
    "    else:\n",
    "        print('Impossible movement. Try again')\n",
    "\n",
    "#01: UP\n",
    "elif counts[\"01\"]==1:\n",
    "    if grid[i-1,j]==0:\n",
    "        grid[i,j]=0\n",
    "        grid[i-1,j]=2\n",
    "        i=i-1\n",
    "    else:\n",
    "        print('Impossible movement. Try again')\n",
    "\n",
    "#10: RIGHT        \n",
    "elif counts[\"10\"]==1:\n",
    "    if grid[i,j+1]==0:\n",
    "        grid[i,j]=0\n",
    "        grid[i,j+1]=2\n",
    "        j=j+1\n",
    "    else:\n",
    "        print('Impossible movement. Try again')\n",
    "\n",
    "#11: LEFT\n",
    "elif counts[\"11\"]==1:\n",
    "    if grid[i,j-1]==0:\n",
    "        grid[i,j]=0\n",
    "        grid[i,j-1]=2\n",
    "        j=j-1\n",
    "    else:\n",
    "        print('Impossible movement. Try again')\n",
    "    \n",
    "print(grid)"
   ]
  },
  {
   "cell_type": "code",
   "execution_count": 93,
   "metadata": {},
   "outputs": [
    {
     "data": {
      "image/png": "[encoded data removed]",
      "text/plain": [
       "<Figure size 504x360 with 1 Axes>"
      ]
     },
     "execution_count": 93,
     "metadata": {},
     "output_type": "execute_result"
    }
   ],
   "source": [
    "from qiskit.tools.visualization import plot_histogram\n",
    "plot_histogram(result_total.get_counts(circuit))"
   ]
  },
  {
   "cell_type": "code",
   "execution_count": null,
   "metadata": {},
   "outputs": [],
   "source": []
  }
 ],
 "metadata": {
  "kernelspec": {
   "display_name": "Python 3",
   "language": "python",
   "name": "python3"
  },
  "language_info": {
   "codemirror_mode": {
    "name": "ipython",
    "version": 3
   },
   "file_extension": ".py",
   "mimetype": "text/x-python",
   "name": "python",
   "nbconvert_exporter": "python",
   "pygments_lexer": "ipython3",
   "version": "3.8.5"
  }
 },
 "nbformat": 4,
 "nbformat_minor": 4
}
