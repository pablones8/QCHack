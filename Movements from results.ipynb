{
 "cells": [
  {
   "cell_type": "code",
   "execution_count": 109,
   "metadata": {},
   "outputs": [
    {
     "name": "stderr",
     "output_type": "stream",
     "text": [
      "ibmqfactory.load_account:WARNING:2021-04-11 02:02:01,407: Credentials are already in use. The existing account in the session will be replaced.\n"
     ]
    },
    {
     "data": {
      "text/plain": [
       "<AccountProvider for IBMQ(hub='ibm-q', group='open', project='main')>"
      ]
     },
     "execution_count": 109,
     "metadata": {},
     "output_type": "execute_result"
    }
   ],
   "source": [
    "from qiskit import *\n",
    "import numpy as np\n",
    "IBMQ.load_account()"
   ]
  },
  {
   "cell_type": "code",
   "execution_count": 147,
   "metadata": {},
   "outputs": [
    {
     "name": "stdout",
     "output_type": "stream",
     "text": [
      "[[2 1 1 1 1]\n",
      " [0 1 1 1 1]\n",
      " [0 0 0 1 1]\n",
      " [1 1 0 0 0]]\n"
     ]
    }
   ],
   "source": [
    "#Initial position in grid\n",
    "i=0\n",
    "j=0\n",
    "\n",
    "#Creates grid\n",
    "grid=np.matrix([[2,1,1,1,1],\n",
    "                [0,1,1,1,1],\n",
    "                [0,0,0,1,1],\n",
    "                [1,1,0,0,0]])\n",
    "    \n",
    "print(grid)\n"
   ]
  },
  {
   "cell_type": "code",
   "execution_count": 155,
   "metadata": {},
   "outputs": [
    {
     "data": {
      "image/png": "[encoded data removed]",
      "text/plain": [
       "<Figure size 206.852x204.68 with 1 Axes>"
      ]
     },
     "execution_count": 155,
     "metadata": {},
     "output_type": "execute_result"
    }
   ],
   "source": [
    "#Quantum circuit\n",
    "cr=ClassicalRegister(2,'c')\n",
    "qr=QuantumRegister(2,'q')\n",
    "\n",
    "circuit= QuantumCircuit(qr, cr)\n",
    "\n",
    "#circuit.x(1)\n",
    "\n",
    "\n",
    "circuit.measure(qr,cr)\n",
    "\n",
    "circuit.draw(output='mpl')"
   ]
  },
  {
   "cell_type": "code",
   "execution_count": 156,
   "metadata": {},
   "outputs": [],
   "source": [
    "simulator=BasicAer.get_backend('qasm_simulator')"
   ]
  },
  {
   "cell_type": "code",
   "execution_count": 157,
   "metadata": {},
   "outputs": [
    {
     "name": "stdout",
     "output_type": "stream",
     "text": [
      "\n",
      "Total count: {'00': 1000}\n"
     ]
    },
    {
     "data": {
      "text/html": [
       "<pre style=\"word-wrap: normal;white-space: pre;background: #fff0;line-height: 1.1;font-family: &quot;Courier New&quot;,Courier,monospace\">     ┌─┐   \n",
       "q_0: ┤M├───\n",
       "     └╥┘┌─┐\n",
       "q_1: ─╫─┤M├\n",
       "      ║ └╥┘\n",
       "c: 2/═╩══╩═\n",
       "      0  1 </pre>"
      ],
      "text/plain": [
       "     ┌─┐   \n",
       "q_0: ┤M├───\n",
       "     └╥┘┌─┐\n",
       "q_1: ─╫─┤M├\n",
       "      ║ └╥┘\n",
       "c: 2/═╩══╩═\n",
       "      0  1 "
      ]
     },
     "execution_count": 157,
     "metadata": {},
     "output_type": "execute_result"
    }
   ],
   "source": [
    "compiled_circuit = transpile(circuit, simulator)\n",
    "\n",
    "#initialize dictonary\n",
    "counts= {\n",
    "  \"00\": 0,\n",
    "  \"01\": 0,\n",
    "  \"10\": 0,\n",
    "  \"11\": 0\n",
    "}\n",
    "\n",
    "# Execute the circuit on the qasm simulator\n",
    "job = simulator.run(compiled_circuit, shots=1000)\n",
    "\n",
    "# Grab results from the job\n",
    "result = job.result()\n",
    "\n",
    "# Returns counts\n",
    "counts = result.get_counts(circuit)\n",
    "print(\"\\nTotal count:\",counts)\n",
    "\n",
    "# Draw the circuit\n",
    "circuit.draw()"
   ]
  },
  {
   "cell_type": "code",
   "execution_count": 159,
   "metadata": {},
   "outputs": [
    {
     "name": "stdout",
     "output_type": "stream",
     "text": [
      "[[0 1 1 1 1]\n",
      " [0 1 1 1 1]\n",
      " [2 0 0 1 1]\n",
      " [1 1 0 0 0]]\n"
     ]
    }
   ],
   "source": [
    "max_counts=900\n",
    "\n",
    "#Makes sure to get every state in the dictionary (even if it has 0 counts)\n",
    "counts['00']=counts.get('00', 0)\n",
    "counts['01']=counts.get('01', 0)\n",
    "counts['10']=counts.get('10', 0)\n",
    "counts['11']=counts.get('11', 0)\n",
    "\n",
    "#print(counts['00'])\n",
    "#print(counts['01'])\n",
    "#print(counts['10'])\n",
    "#print(counts['11'])\n",
    "\n",
    "# 00: DOWN\n",
    "if counts[\"00\"]>max_counts:\n",
    "    if grid[i+1,j]==0:\n",
    "        grid[i,j]=0\n",
    "        grid[(i+1),j]=2\n",
    "        i=i+1\n",
    "    else:\n",
    "        print('Impossible movement. Try again')\n",
    "\n",
    "#01: UP\n",
    "elif counts[\"01\"]>max_counts:\n",
    "    if grid[i-1,j]==0:\n",
    "        grid[i,j]=0\n",
    "        grid[i-1,j]=2\n",
    "        i=i-1\n",
    "    else:\n",
    "        print('Impossible movement. Try again')\n",
    "\n",
    "#10: RIGHT        \n",
    "elif counts[\"10\"]>max_counts:\n",
    "    if grid[i,j+1]==0:\n",
    "        grid[i,j]=0\n",
    "        grid[i,j+1]=2\n",
    "        j=j+1\n",
    "    else:\n",
    "        print('Impossible movement. Try again')\n",
    "\n",
    "#11: LEFT\n",
    "elif counts[\"11\"]>max_counts:\n",
    "    if grid[i,j-1]==0:\n",
    "        grid[i,j]=0\n",
    "        grid[i,j-1]=2\n",
    "        j=j-1\n",
    "    else:\n",
    "        print('Impossible movement. Try again')\n",
    "    \n",
    "print(grid)"
   ]
  },
  {
   "cell_type": "code",
   "execution_count": null,
   "metadata": {},
   "outputs": [],
   "source": []
  },
  {
   "cell_type": "code",
   "execution_count": null,
   "metadata": {},
   "outputs": [],
   "source": []
  },
  {
   "cell_type": "code",
   "execution_count": null,
   "metadata": {},
   "outputs": [],
   "source": []
  }
 ],
 "metadata": {
  "kernelspec": {
   "display_name": "Python 3",
   "language": "python",
   "name": "python3"
  },
  "language_info": {
   "codemirror_mode": {
    "name": "ipython",
    "version": 3
   },
   "file_extension": ".py",
   "mimetype": "text/x-python",
   "name": "python",
   "nbconvert_exporter": "python",
   "pygments_lexer": "ipython3",
   "version": "3.8.5"
  }
 },
 "nbformat": 4,
 "nbformat_minor": 4
}
