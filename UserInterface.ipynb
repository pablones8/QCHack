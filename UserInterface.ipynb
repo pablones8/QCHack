{
 "cells": [
  {
   "cell_type": "code",
   "execution_count": 34,
   "id": "01ecbcd1",
   "metadata": {},
   "outputs": [
    {
     "name": "stderr",
     "output_type": "stream",
     "text": [
      "ibmqfactory.load_account:WARNING:2021-04-11 00:27:35,315: Credentials are already in use. The existing account in the session will be replaced.\n"
     ]
    }
   ],
   "source": [
    "import numpy as np\n",
    "# Importing standard Qiskit libraries\n",
    "from qiskit import QuantumCircuit, transpile, Aer, IBMQ\n",
    "from qiskit import *\n",
    "from qiskit.tools.jupyter import *\n",
    "from qiskit.visualization import *\n",
    "from ibm_quantum_widgets import *\n",
    "\n",
    "# Loading your IBM Q account(s)\n",
    "provider = IBMQ.load_account()"
   ]
  },
  {
   "cell_type": "code",
   "execution_count": 50,
   "id": "72a04942",
   "metadata": {},
   "outputs": [],
   "source": [
    "class UserInteraction():\n",
    "    def __init__(self):\n",
    "        self.str_q0 = \"q0 -\"\n",
    "        self.str_q1 = \"q1 -\"\n",
    "        self.wire = \"-----------\"\n",
    "    \n",
    "    def apply_gates(self):\n",
    "        print(\"Insert gates you want to apply (Ex: H-X-H)\")\n",
    "        q0 = input(\"q0--\")\n",
    "        q1 = input(\"q1--\")\n",
    "        \n",
    "        self.gates_q0 = []\n",
    "        self.gates_q1 = []\n",
    "        for gate in q0:\n",
    "            if gate != \"-\":\n",
    "                self.gates_q0.append(gate)\n",
    "        \n",
    "        for gate in q1:\n",
    "            if gate != \"-\":\n",
    "                self.gates_q1.append(gate)\n",
    "        \n",
    "        self.generate_circuit(self.gates_q0,self.gates_q1)\n",
    "        \n",
    "    def generate_circuit(self,list0, list1):\n",
    "        circ = QuantumCircuit(2)\n",
    "        \n",
    "        #gates q0\n",
    "        for gate in list0:\n",
    "            if gate == 'X':\n",
    "                circ.x(0)\n",
    "            elif gate == 'H':\n",
    "                circ.h(0)\n",
    "        \n",
    "        #gates q1\n",
    "        for gate in list1:\n",
    "            if gate == 'X':\n",
    "                circ.x(1)\n",
    "            elif gate == 'H':\n",
    "                circ.h(1)\n",
    "        \n",
    "        #Creating the measurement\n",
    "        meas = QuantumCircuit(2,2)\n",
    "        meas.barrier(range(2))\n",
    "        meas.measure(range(2), range(2))\n",
    "\n",
    "        self.qc = circ+meas\n",
    "    \n",
    "        \n",
    "        \n",
    "    \n"
   ]
  },
  {
   "cell_type": "code",
   "execution_count": 51,
   "id": "d318997d",
   "metadata": {},
   "outputs": [
    {
     "name": "stdout",
     "output_type": "stream",
     "text": [
      "Insert gates you want to apply (Ex: H-X-H)\n",
      "q0--H-X-X\n",
      "q1--H-H\n"
     ]
    },
    {
     "data": {
      "image/png": "[encoded data removed]",
      "text/plain": [
       "<Figure size 447.652x204.68 with 1 Axes>"
      ]
     },
     "execution_count": 51,
     "metadata": {},
     "output_type": "execute_result"
    }
   ],
   "source": [
    "A = UserInteraction()\n",
    "A.apply_gates()\n",
    "A.qc.draw()"
   ]
  }
 ],
 "metadata": {
  "kernelspec": {
   "display_name": "Python 3",
   "language": "python",
   "name": "python3"
  },
  "language_info": {
   "codemirror_mode": {
    "name": "ipython",
    "version": 3
   },
   "file_extension": ".py",
   "mimetype": "text/x-python",
   "name": "python",
   "nbconvert_exporter": "python",
   "pygments_lexer": "ipython3",
   "version": "3.8.8"
  }
 },
 "nbformat": 4,
 "nbformat_minor": 5
}
