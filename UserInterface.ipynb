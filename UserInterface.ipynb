{
 "cells": [
  {
   "cell_type": "code",
   "execution_count": 4,
   "metadata": {},
   "outputs": [
    {
     "name": "stderr",
     "output_type": "stream",
     "text": [
      "ibmqfactory.load_account:WARNING:2021-04-11 09:16:08,134: Credentials are already in use. The existing account in the session will be replaced.\n"
     ]
    }
   ],
   "source": [
    "import numpy as np\n",
    "# Importing standard Qiskit libraries\n",
    "from qiskit import QuantumCircuit, transpile, Aer, IBMQ\n",
    "from qiskit import *\n",
    "from qiskit.tools.jupyter import *\n",
    "from qiskit.visualization import *\n",
    "from ibm_quantum_widgets import *\n",
    "\n",
    "# Loading your IBM Q account(s)\n",
    "provider = IBMQ.load_account()\n",
    "\n",
    "simulator=BasicAer.get_backend('qasm_simulator')"
   ]
  },
  {
   "cell_type": "code",
   "execution_count": 2,
   "metadata": {},
   "outputs": [],
   "source": [
    "class UserInteraction():\n",
    "    def __init__(self):\n",
    "        self.str_q0 = \"q0 -\"\n",
    "        self.str_q1 = \"q1 -\"\n",
    "        self.wire = \"-----------\"\n",
    "    \n",
    "    def apply_gates(self):\n",
    "        print(\"Insert gates you want to apply (Ex: H-X-H)\")\n",
    "        q0 = input(\"q0--\")\n",
    "        q1 = input(\"q1--\")\n",
    "        \n",
    "        self.gates_q0 = []\n",
    "        self.gates_q1 = []\n",
    "        for gate in q0:\n",
    "            if gate != \"-\":\n",
    "                self.gates_q0.append(gate)\n",
    "        \n",
    "        for gate in q1:\n",
    "            if gate != \"-\":\n",
    "                self.gates_q1.append(gate)\n",
    "        \n",
    "        self.generate_circuit(self.gates_q0,self.gates_q1)\n",
    "        \n",
    "    def generate_circuit(self,list0, list1):\n",
    "        circ = QuantumCircuit(2)\n",
    "        \n",
    "        #gates q0\n",
    "        for gate in list0:\n",
    "            if gate == 'X':\n",
    "                circ.x(0)\n",
    "            elif gate == 'H':\n",
    "                circ.h(0)\n",
    "        \n",
    "        #gates q1\n",
    "        for gate in list1:\n",
    "            if gate == 'X':\n",
    "                circ.x(1)\n",
    "            elif gate == 'H':\n",
    "                circ.h(1)\n",
    "        \n",
    "        #Creating the measurement\n",
    "        meas = QuantumCircuit(2,2)\n",
    "        meas.barrier(range(2))\n",
    "        meas.measure(range(2), range(2))\n",
    "\n",
    "        self.qc = circ+meas\n",
    "    \n",
    "        \n",
    "        \n",
    "    \n"
   ]
  },
  {
   "cell_type": "code",
   "execution_count": 3,
   "metadata": {},
   "outputs": [
    {
     "name": "stdout",
     "output_type": "stream",
     "text": [
      "Insert gates you want to apply (Ex: H-X-H)\n",
      "q0--H\n",
      "q1--X\n"
     ]
    },
    {
     "name": "stderr",
     "output_type": "stream",
     "text": [
      "<ipython-input-2-7566a905c46a>:46: DeprecationWarning: The QuantumCircuit.__add__() method is being deprecated.Use the compose() method which is more flexible w.r.t circuit register compatibility.\n",
      "  self.qc = circ+meas\n",
      "C:\\Users\\Berta\\Documents\\Anaconda\\lib\\site-packages\\qiskit\\circuit\\quantumcircuit.py:869: DeprecationWarning: The QuantumCircuit.combine() method is being deprecated. Use the compose() method which is more flexible w.r.t circuit register compatibility.\n",
      "  return self.combine(rhs)\n"
     ]
    },
    {
     "data": {
      "text/html": [
       "<pre style=\"word-wrap: normal;white-space: pre;background: #fff0;line-height: 1.1;font-family: &quot;Courier New&quot;,Courier,monospace\">     ┌───┐ ░ ┌─┐   \n",
       "q_0: ┤ H ├─░─┤M├───\n",
       "     ├───┤ ░ └╥┘┌─┐\n",
       "q_1: ┤ X ├─░──╫─┤M├\n",
       "     └───┘ ░  ║ └╥┘\n",
       "c: 2/═════════╩══╩═\n",
       "              0  1 </pre>"
      ],
      "text/plain": [
       "     ┌───┐ ░ ┌─┐   \n",
       "q_0: ┤ H ├─░─┤M├───\n",
       "     ├───┤ ░ └╥┘┌─┐\n",
       "q_1: ┤ X ├─░──╫─┤M├\n",
       "     └───┘ ░  ║ └╥┘\n",
       "c: 2/═════════╩══╩═\n",
       "              0  1 "
      ]
     },
     "execution_count": 3,
     "metadata": {},
     "output_type": "execute_result"
    }
   ],
   "source": [
    "A = UserInteraction()\n",
    "A.apply_gates()\n",
    "A.qc.draw()"
   ]
  },
  {
   "cell_type": "code",
   "execution_count": null,
   "metadata": {},
   "outputs": [],
   "source": []
  }
 ],
 "metadata": {
  "kernelspec": {
   "display_name": "Python 3",
   "language": "python",
   "name": "python3"
  },
  "language_info": {
   "codemirror_mode": {
    "name": "ipython",
    "version": 3
   },
   "file_extension": ".py",
   "mimetype": "text/x-python",
   "name": "python",
   "nbconvert_exporter": "python",
   "pygments_lexer": "ipython3",
   "version": "3.8.5"
  }
 },
 "nbformat": 4,
 "nbformat_minor": 5
}
